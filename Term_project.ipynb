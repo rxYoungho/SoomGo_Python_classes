{
 "cells": [
  {
   "cell_type": "code",
   "execution_count": 1,
   "metadata": {},
   "outputs": [],
   "source": [
    "import numpy as np\n",
    "import pandas as pd\n",
    "import matplotlib.pyplot as plt"
   ]
  },
  {
   "cell_type": "code",
   "execution_count": 2,
   "metadata": {},
   "outputs": [
    {
     "name": "stderr",
     "output_type": "stream",
     "text": [
      "C:\\ProgramData\\Anaconda3\\envs\\daheeta_mining\\lib\\site-packages\\ipykernel_launcher.py:7: SettingWithCopyWarning: \n",
      "A value is trying to be set on a copy of a slice from a DataFrame\n",
      "\n",
      "See the caveats in the documentation: https://pandas.pydata.org/pandas-docs/stable/user_guide/indexing.html#returning-a-view-versus-a-copy\n",
      "  import sys\n",
      "C:\\ProgramData\\Anaconda3\\envs\\daheeta_mining\\lib\\site-packages\\ipykernel_launcher.py:5: SettingWithCopyWarning: \n",
      "A value is trying to be set on a copy of a slice from a DataFrame\n",
      "\n",
      "See the caveats in the documentation: https://pandas.pydata.org/pandas-docs/stable/user_guide/indexing.html#returning-a-view-versus-a-copy\n",
      "  \"\"\"\n",
      "C:\\ProgramData\\Anaconda3\\envs\\daheeta_mining\\lib\\site-packages\\ipykernel_launcher.py:9: SettingWithCopyWarning: \n",
      "A value is trying to be set on a copy of a slice from a DataFrame\n",
      "\n",
      "See the caveats in the documentation: https://pandas.pydata.org/pandas-docs/stable/user_guide/indexing.html#returning-a-view-versus-a-copy\n",
      "  if __name__ == '__main__':\n",
      "C:\\ProgramData\\Anaconda3\\envs\\daheeta_mining\\lib\\site-packages\\ipykernel_launcher.py:13: SettingWithCopyWarning: \n",
      "A value is trying to be set on a copy of a slice from a DataFrame\n",
      "\n",
      "See the caveats in the documentation: https://pandas.pydata.org/pandas-docs/stable/user_guide/indexing.html#returning-a-view-versus-a-copy\n",
      "  del sys.path[0]\n",
      "C:\\ProgramData\\Anaconda3\\envs\\daheeta_mining\\lib\\site-packages\\ipykernel_launcher.py:11: SettingWithCopyWarning: \n",
      "A value is trying to be set on a copy of a slice from a DataFrame\n",
      "\n",
      "See the caveats in the documentation: https://pandas.pydata.org/pandas-docs/stable/user_guide/indexing.html#returning-a-view-versus-a-copy\n",
      "  # This is added back by InteractiveShellApp.init_path()\n"
     ]
    }
   ],
   "source": [
    "df = pd.read_csv('./MGE303_Term Project_Classification_Data (Disease).csv')\n",
    "\n",
    "for i in range(len(df[\"EXER_M\"])):\n",
    "    if df[\"EXER_M\"][i] == \"Never\":\n",
    "        df[\"EXER_M\"][i] = 0\n",
    "    if df[\"EXER_M\"][i] == \"Once a week\":\n",
    "        df[\"EXER_M\"][i] = 1\n",
    "    if df[\"EXER_M\"][i] == \"2-3 a week\":\n",
    "        df[\"EXER_M\"][i] = 2\n",
    "    if df[\"EXER_M\"][i] == '4-5 a week':\n",
    "        df[\"EXER_M\"][i] = 3\n",
    "    if df[\"EXER_M\"][i] == '>5 a week':\n",
    "        df[\"EXER_M\"][i] = 4"
   ]
  },
  {
   "cell_type": "code",
   "execution_count": 3,
   "metadata": {},
   "outputs": [
    {
     "data": {
      "text/html": [
       "<div>\n",
       "<style scoped>\n",
       "    .dataframe tbody tr th:only-of-type {\n",
       "        vertical-align: middle;\n",
       "    }\n",
       "\n",
       "    .dataframe tbody tr th {\n",
       "        vertical-align: top;\n",
       "    }\n",
       "\n",
       "    .dataframe thead th {\n",
       "        text-align: right;\n",
       "    }\n",
       "</style>\n",
       "<table border=\"1\" class=\"dataframe\">\n",
       "  <thead>\n",
       "    <tr style=\"text-align: right;\">\n",
       "      <th></th>\n",
       "      <th>HY_YN</th>\n",
       "      <th>AGE</th>\n",
       "      <th>gender</th>\n",
       "      <th>WAIST</th>\n",
       "      <th>BP_HIGH</th>\n",
       "      <th>BP_LWST</th>\n",
       "      <th>BLDS</th>\n",
       "      <th>TOT_CHOLE</th>\n",
       "      <th>SGOT_ASL</th>\n",
       "      <th>SGPT_ALT</th>\n",
       "      <th>...</th>\n",
       "      <th>H_APOP_YN</th>\n",
       "      <th>H_HDISE_YN</th>\n",
       "      <th>H_DIABML_YN</th>\n",
       "      <th>F_APOP_YN</th>\n",
       "      <th>F_HDISE_YN</th>\n",
       "      <th>F_HPRT_YN</th>\n",
       "      <th>F_DIABML_YN</th>\n",
       "      <th>DSQTY</th>\n",
       "      <th>SMK_TERM</th>\n",
       "      <th>EXER_M</th>\n",
       "    </tr>\n",
       "  </thead>\n",
       "  <tbody>\n",
       "    <tr>\n",
       "      <th>0</th>\n",
       "      <td>1</td>\n",
       "      <td>66</td>\n",
       "      <td>1</td>\n",
       "      <td>76.0</td>\n",
       "      <td>120.0</td>\n",
       "      <td>70.0</td>\n",
       "      <td>87.0</td>\n",
       "      <td>199.0</td>\n",
       "      <td>22.0</td>\n",
       "      <td>13.0</td>\n",
       "      <td>...</td>\n",
       "      <td>0</td>\n",
       "      <td>0</td>\n",
       "      <td>0</td>\n",
       "      <td>0</td>\n",
       "      <td>0</td>\n",
       "      <td>0</td>\n",
       "      <td>0</td>\n",
       "      <td>0</td>\n",
       "      <td>5</td>\n",
       "      <td>1</td>\n",
       "    </tr>\n",
       "    <tr>\n",
       "      <th>1</th>\n",
       "      <td>1</td>\n",
       "      <td>55</td>\n",
       "      <td>1</td>\n",
       "      <td>84.0</td>\n",
       "      <td>110.0</td>\n",
       "      <td>80.0</td>\n",
       "      <td>85.0</td>\n",
       "      <td>178.0</td>\n",
       "      <td>40.0</td>\n",
       "      <td>35.0</td>\n",
       "      <td>...</td>\n",
       "      <td>0</td>\n",
       "      <td>0</td>\n",
       "      <td>0</td>\n",
       "      <td>0</td>\n",
       "      <td>0</td>\n",
       "      <td>0</td>\n",
       "      <td>0</td>\n",
       "      <td>0</td>\n",
       "      <td>0</td>\n",
       "      <td>0</td>\n",
       "    </tr>\n",
       "    <tr>\n",
       "      <th>2</th>\n",
       "      <td>1</td>\n",
       "      <td>54</td>\n",
       "      <td>0</td>\n",
       "      <td>84.0</td>\n",
       "      <td>117.0</td>\n",
       "      <td>76.0</td>\n",
       "      <td>92.0</td>\n",
       "      <td>195.0</td>\n",
       "      <td>20.0</td>\n",
       "      <td>20.0</td>\n",
       "      <td>...</td>\n",
       "      <td>0</td>\n",
       "      <td>0</td>\n",
       "      <td>0</td>\n",
       "      <td>0</td>\n",
       "      <td>0</td>\n",
       "      <td>0</td>\n",
       "      <td>0</td>\n",
       "      <td>0</td>\n",
       "      <td>0</td>\n",
       "      <td>1</td>\n",
       "    </tr>\n",
       "    <tr>\n",
       "      <th>3</th>\n",
       "      <td>1</td>\n",
       "      <td>29</td>\n",
       "      <td>1</td>\n",
       "      <td>80.0</td>\n",
       "      <td>126.0</td>\n",
       "      <td>82.0</td>\n",
       "      <td>86.0</td>\n",
       "      <td>150.0</td>\n",
       "      <td>25.0</td>\n",
       "      <td>27.0</td>\n",
       "      <td>...</td>\n",
       "      <td>0</td>\n",
       "      <td>0</td>\n",
       "      <td>0</td>\n",
       "      <td>0</td>\n",
       "      <td>0</td>\n",
       "      <td>0</td>\n",
       "      <td>0</td>\n",
       "      <td>1</td>\n",
       "      <td>3</td>\n",
       "      <td>1</td>\n",
       "    </tr>\n",
       "    <tr>\n",
       "      <th>4</th>\n",
       "      <td>1</td>\n",
       "      <td>43</td>\n",
       "      <td>1</td>\n",
       "      <td>82.0</td>\n",
       "      <td>130.0</td>\n",
       "      <td>85.0</td>\n",
       "      <td>104.0</td>\n",
       "      <td>134.0</td>\n",
       "      <td>31.0</td>\n",
       "      <td>23.0</td>\n",
       "      <td>...</td>\n",
       "      <td>0</td>\n",
       "      <td>0</td>\n",
       "      <td>0</td>\n",
       "      <td>0</td>\n",
       "      <td>0</td>\n",
       "      <td>0</td>\n",
       "      <td>0</td>\n",
       "      <td>2</td>\n",
       "      <td>3</td>\n",
       "      <td>1</td>\n",
       "    </tr>\n",
       "  </tbody>\n",
       "</table>\n",
       "<p>5 rows × 22 columns</p>\n",
       "</div>"
      ],
      "text/plain": [
       "   HY_YN  AGE  gender  WAIST  BP_HIGH  BP_LWST   BLDS  TOT_CHOLE  SGOT_ASL  \\\n",
       "0      1   66       1   76.0    120.0     70.0   87.0      199.0      22.0   \n",
       "1      1   55       1   84.0    110.0     80.0   85.0      178.0      40.0   \n",
       "2      1   54       0   84.0    117.0     76.0   92.0      195.0      20.0   \n",
       "3      1   29       1   80.0    126.0     82.0   86.0      150.0      25.0   \n",
       "4      1   43       1   82.0    130.0     85.0  104.0      134.0      31.0   \n",
       "\n",
       "   SGPT_ALT  ...  H_APOP_YN  H_HDISE_YN  H_DIABML_YN  F_APOP_YN  F_HDISE_YN  \\\n",
       "0      13.0  ...          0           0            0          0           0   \n",
       "1      35.0  ...          0           0            0          0           0   \n",
       "2      20.0  ...          0           0            0          0           0   \n",
       "3      27.0  ...          0           0            0          0           0   \n",
       "4      23.0  ...          0           0            0          0           0   \n",
       "\n",
       "   F_HPRT_YN  F_DIABML_YN  DSQTY  SMK_TERM  EXER_M  \n",
       "0          0            0      0         5       1  \n",
       "1          0            0      0         0       0  \n",
       "2          0            0      0         0       1  \n",
       "3          0            0      1         3       1  \n",
       "4          0            0      2         3       1  \n",
       "\n",
       "[5 rows x 22 columns]"
      ]
     },
     "execution_count": 3,
     "metadata": {},
     "output_type": "execute_result"
    }
   ],
   "source": [
    "df.head()"
   ]
  },
  {
   "cell_type": "markdown",
   "metadata": {},
   "source": [
    "AS WE CAN SEE FROM THE TABLE, THERE'S A FEATURE WHICH HAS STRING VALULE. \"EXER_M\" IS AN ORDINAL VALUE SO I'M GONNA TRANSFORM IT INTO int."
   ]
  },
  {
   "cell_type": "code",
   "execution_count": 4,
   "metadata": {},
   "outputs": [
    {
     "name": "stdout",
     "output_type": "stream",
     "text": [
      "<class 'pandas.core.frame.DataFrame'>\n",
      "RangeIndex: 21613 entries, 0 to 21612\n",
      "Data columns (total 22 columns):\n",
      " #   Column       Non-Null Count  Dtype  \n",
      "---  ------       --------------  -----  \n",
      " 0   HY_YN        21613 non-null  int64  \n",
      " 1   AGE          21613 non-null  int64  \n",
      " 2   gender       21613 non-null  int64  \n",
      " 3   WAIST        21569 non-null  float64\n",
      " 4   BP_HIGH      21610 non-null  float64\n",
      " 5   BP_LWST      21610 non-null  float64\n",
      " 6   BLDS         21612 non-null  float64\n",
      " 7   TOT_CHOLE    21613 non-null  float64\n",
      " 8   SGOT_ASL     21586 non-null  float64\n",
      " 9   SGPT_ALT     21591 non-null  float64\n",
      " 10  GAMMA_GTP    21532 non-null  float64\n",
      " 11  HMG          21607 non-null  float64\n",
      " 12  H_APOP_YN    21613 non-null  int64  \n",
      " 13  H_HDISE_YN   21613 non-null  int64  \n",
      " 14  H_DIABML_YN  21613 non-null  int64  \n",
      " 15  F_APOP_YN    21613 non-null  int64  \n",
      " 16  F_HDISE_YN   21613 non-null  int64  \n",
      " 17  F_HPRT_YN    21613 non-null  int64  \n",
      " 18  F_DIABML_YN  21613 non-null  int64  \n",
      " 19  DSQTY        21613 non-null  int64  \n",
      " 20  SMK_TERM     21613 non-null  int64  \n",
      " 21  EXER_M       21613 non-null  object \n",
      "dtypes: float64(9), int64(12), object(1)\n",
      "memory usage: 3.6+ MB\n"
     ]
    }
   ],
   "source": [
    "df.info()"
   ]
  },
  {
   "cell_type": "code",
   "execution_count": 5,
   "metadata": {},
   "outputs": [
    {
     "data": {
      "text/html": [
       "<div>\n",
       "<style scoped>\n",
       "    .dataframe tbody tr th:only-of-type {\n",
       "        vertical-align: middle;\n",
       "    }\n",
       "\n",
       "    .dataframe tbody tr th {\n",
       "        vertical-align: top;\n",
       "    }\n",
       "\n",
       "    .dataframe thead th {\n",
       "        text-align: right;\n",
       "    }\n",
       "</style>\n",
       "<table border=\"1\" class=\"dataframe\">\n",
       "  <thead>\n",
       "    <tr style=\"text-align: right;\">\n",
       "      <th></th>\n",
       "      <th>HY_YN</th>\n",
       "      <th>AGE</th>\n",
       "      <th>gender</th>\n",
       "      <th>WAIST</th>\n",
       "      <th>BP_HIGH</th>\n",
       "      <th>BP_LWST</th>\n",
       "      <th>BLDS</th>\n",
       "      <th>TOT_CHOLE</th>\n",
       "      <th>SGOT_ASL</th>\n",
       "      <th>SGPT_ALT</th>\n",
       "      <th>...</th>\n",
       "      <th>H_APOP_YN</th>\n",
       "      <th>H_HDISE_YN</th>\n",
       "      <th>H_DIABML_YN</th>\n",
       "      <th>F_APOP_YN</th>\n",
       "      <th>F_HDISE_YN</th>\n",
       "      <th>F_HPRT_YN</th>\n",
       "      <th>F_DIABML_YN</th>\n",
       "      <th>DSQTY</th>\n",
       "      <th>SMK_TERM</th>\n",
       "      <th>EXER_M</th>\n",
       "    </tr>\n",
       "  </thead>\n",
       "  <tbody>\n",
       "    <tr>\n",
       "      <th>0</th>\n",
       "      <td>1</td>\n",
       "      <td>66</td>\n",
       "      <td>1</td>\n",
       "      <td>76.0</td>\n",
       "      <td>120.0</td>\n",
       "      <td>70.0</td>\n",
       "      <td>87.0</td>\n",
       "      <td>199.0</td>\n",
       "      <td>22.0</td>\n",
       "      <td>13.0</td>\n",
       "      <td>...</td>\n",
       "      <td>0</td>\n",
       "      <td>0</td>\n",
       "      <td>0</td>\n",
       "      <td>0</td>\n",
       "      <td>0</td>\n",
       "      <td>0</td>\n",
       "      <td>0</td>\n",
       "      <td>0</td>\n",
       "      <td>5</td>\n",
       "      <td>1</td>\n",
       "    </tr>\n",
       "    <tr>\n",
       "      <th>1</th>\n",
       "      <td>1</td>\n",
       "      <td>55</td>\n",
       "      <td>1</td>\n",
       "      <td>84.0</td>\n",
       "      <td>110.0</td>\n",
       "      <td>80.0</td>\n",
       "      <td>85.0</td>\n",
       "      <td>178.0</td>\n",
       "      <td>40.0</td>\n",
       "      <td>35.0</td>\n",
       "      <td>...</td>\n",
       "      <td>0</td>\n",
       "      <td>0</td>\n",
       "      <td>0</td>\n",
       "      <td>0</td>\n",
       "      <td>0</td>\n",
       "      <td>0</td>\n",
       "      <td>0</td>\n",
       "      <td>0</td>\n",
       "      <td>0</td>\n",
       "      <td>0</td>\n",
       "    </tr>\n",
       "    <tr>\n",
       "      <th>2</th>\n",
       "      <td>1</td>\n",
       "      <td>54</td>\n",
       "      <td>0</td>\n",
       "      <td>84.0</td>\n",
       "      <td>117.0</td>\n",
       "      <td>76.0</td>\n",
       "      <td>92.0</td>\n",
       "      <td>195.0</td>\n",
       "      <td>20.0</td>\n",
       "      <td>20.0</td>\n",
       "      <td>...</td>\n",
       "      <td>0</td>\n",
       "      <td>0</td>\n",
       "      <td>0</td>\n",
       "      <td>0</td>\n",
       "      <td>0</td>\n",
       "      <td>0</td>\n",
       "      <td>0</td>\n",
       "      <td>0</td>\n",
       "      <td>0</td>\n",
       "      <td>1</td>\n",
       "    </tr>\n",
       "    <tr>\n",
       "      <th>3</th>\n",
       "      <td>1</td>\n",
       "      <td>29</td>\n",
       "      <td>1</td>\n",
       "      <td>80.0</td>\n",
       "      <td>126.0</td>\n",
       "      <td>82.0</td>\n",
       "      <td>86.0</td>\n",
       "      <td>150.0</td>\n",
       "      <td>25.0</td>\n",
       "      <td>27.0</td>\n",
       "      <td>...</td>\n",
       "      <td>0</td>\n",
       "      <td>0</td>\n",
       "      <td>0</td>\n",
       "      <td>0</td>\n",
       "      <td>0</td>\n",
       "      <td>0</td>\n",
       "      <td>0</td>\n",
       "      <td>1</td>\n",
       "      <td>3</td>\n",
       "      <td>1</td>\n",
       "    </tr>\n",
       "    <tr>\n",
       "      <th>4</th>\n",
       "      <td>1</td>\n",
       "      <td>43</td>\n",
       "      <td>1</td>\n",
       "      <td>82.0</td>\n",
       "      <td>130.0</td>\n",
       "      <td>85.0</td>\n",
       "      <td>104.0</td>\n",
       "      <td>134.0</td>\n",
       "      <td>31.0</td>\n",
       "      <td>23.0</td>\n",
       "      <td>...</td>\n",
       "      <td>0</td>\n",
       "      <td>0</td>\n",
       "      <td>0</td>\n",
       "      <td>0</td>\n",
       "      <td>0</td>\n",
       "      <td>0</td>\n",
       "      <td>0</td>\n",
       "      <td>2</td>\n",
       "      <td>3</td>\n",
       "      <td>1</td>\n",
       "    </tr>\n",
       "  </tbody>\n",
       "</table>\n",
       "<p>5 rows × 22 columns</p>\n",
       "</div>"
      ],
      "text/plain": [
       "   HY_YN  AGE  gender  WAIST  BP_HIGH  BP_LWST   BLDS  TOT_CHOLE  SGOT_ASL  \\\n",
       "0      1   66       1   76.0    120.0     70.0   87.0      199.0      22.0   \n",
       "1      1   55       1   84.0    110.0     80.0   85.0      178.0      40.0   \n",
       "2      1   54       0   84.0    117.0     76.0   92.0      195.0      20.0   \n",
       "3      1   29       1   80.0    126.0     82.0   86.0      150.0      25.0   \n",
       "4      1   43       1   82.0    130.0     85.0  104.0      134.0      31.0   \n",
       "\n",
       "   SGPT_ALT  ...  H_APOP_YN  H_HDISE_YN  H_DIABML_YN  F_APOP_YN  F_HDISE_YN  \\\n",
       "0      13.0  ...          0           0            0          0           0   \n",
       "1      35.0  ...          0           0            0          0           0   \n",
       "2      20.0  ...          0           0            0          0           0   \n",
       "3      27.0  ...          0           0            0          0           0   \n",
       "4      23.0  ...          0           0            0          0           0   \n",
       "\n",
       "   F_HPRT_YN  F_DIABML_YN  DSQTY  SMK_TERM  EXER_M  \n",
       "0          0            0      0         5       1  \n",
       "1          0            0      0         0       0  \n",
       "2          0            0      0         0       1  \n",
       "3          0            0      1         3       1  \n",
       "4          0            0      2         3       1  \n",
       "\n",
       "[5 rows x 22 columns]"
      ]
     },
     "execution_count": 5,
     "metadata": {},
     "output_type": "execute_result"
    }
   ],
   "source": [
    "df.head()"
   ]
  },
  {
   "cell_type": "code",
   "execution_count": 6,
   "metadata": {
    "tags": [
     "outputPrepend",
     "outputPrepend",
     "outputPrepend",
     "outputPrepend",
     "outputPrepend",
     "outputPrepend",
     "outputPrepend",
     "outputPrepend",
     "outputPrepend",
     "outputPrepend",
     "outputPrepend",
     "outputPrepend",
     "outputPrepend",
     "outputPrepend",
     "outputPrepend",
     "outputPrepend",
     "outputPrepend",
     "outputPrepend",
     "outputPrepend",
     "outputPrepend",
     "outputPrepend",
     "outputPrepend",
     "outputPrepend",
     "outputPrepend",
     "outputPrepend",
     "outputPrepend",
     "outputPrepend"
    ]
   },
   "outputs": [],
   "source": [
    "cat_feat = ['gender', 'H_APOP_YN', 'H_HDISE_YN', 'H_DIABML_YN', 'F_APOP_YN', 'F_HDISE_YN', 'F_HPRT_YN','F_DIABML_YN','DSQTY','SMK_TERM','EXER_M']"
   ]
  },
  {
   "cell_type": "code",
   "execution_count": 7,
   "metadata": {},
   "outputs": [],
   "source": [
    "df[cat_feat] = df[cat_feat].astype(object)"
   ]
  },
  {
   "cell_type": "code",
   "execution_count": 8,
   "metadata": {},
   "outputs": [
    {
     "name": "stdout",
     "output_type": "stream",
     "text": [
      "<class 'pandas.core.frame.DataFrame'>\n",
      "RangeIndex: 21613 entries, 0 to 21612\n",
      "Data columns (total 22 columns):\n",
      " #   Column       Non-Null Count  Dtype  \n",
      "---  ------       --------------  -----  \n",
      " 0   HY_YN        21613 non-null  int64  \n",
      " 1   AGE          21613 non-null  int64  \n",
      " 2   gender       21613 non-null  object \n",
      " 3   WAIST        21569 non-null  float64\n",
      " 4   BP_HIGH      21610 non-null  float64\n",
      " 5   BP_LWST      21610 non-null  float64\n",
      " 6   BLDS         21612 non-null  float64\n",
      " 7   TOT_CHOLE    21613 non-null  float64\n",
      " 8   SGOT_ASL     21586 non-null  float64\n",
      " 9   SGPT_ALT     21591 non-null  float64\n",
      " 10  GAMMA_GTP    21532 non-null  float64\n",
      " 11  HMG          21607 non-null  float64\n",
      " 12  H_APOP_YN    21613 non-null  object \n",
      " 13  H_HDISE_YN   21613 non-null  object \n",
      " 14  H_DIABML_YN  21613 non-null  object \n",
      " 15  F_APOP_YN    21613 non-null  object \n",
      " 16  F_HDISE_YN   21613 non-null  object \n",
      " 17  F_HPRT_YN    21613 non-null  object \n",
      " 18  F_DIABML_YN  21613 non-null  object \n",
      " 19  DSQTY        21613 non-null  object \n",
      " 20  SMK_TERM     21613 non-null  object \n",
      " 21  EXER_M       21613 non-null  object \n",
      "dtypes: float64(9), int64(2), object(11)\n",
      "memory usage: 3.6+ MB\n"
     ]
    }
   ],
   "source": [
    "df.info()"
   ]
  },
  {
   "cell_type": "code",
   "execution_count": 9,
   "metadata": {},
   "outputs": [
    {
     "data": {
      "image/png": "[encoded data removed]",
      "text/plain": [
       "<Figure size 432x288 with 1 Axes>"
      ]
     },
     "metadata": {
      "needs_background": "light"
     },
     "output_type": "display_data"
    }
   ],
   "source": [
    "plt.bar(['0', '1'], df['HY_YN'].value_counts(ascending=True))\n",
    "plt.show()"
   ]
  },
  {
   "cell_type": "code",
   "execution_count": 10,
   "metadata": {},
   "outputs": [
    {
     "name": "stdout",
     "output_type": "stream",
     "text": [
      "Ratio between 0 : 1 = 1:0.3333\n"
     ]
    }
   ],
   "source": [
    "ratio = len(df['HY_YN'][df['HY_YN'] == 1]) / len(df['HY_YN'][df['HY_YN'] == 0])\n",
    "print(f'Ratio between 0 : 1 = 1:{ratio:.4f}')"
   ]
  },
  {
   "cell_type": "code",
   "execution_count": 11,
   "metadata": {},
   "outputs": [
    {
     "data": {
      "text/html": [
       "<div>\n",
       "<style scoped>\n",
       "    .dataframe tbody tr th:only-of-type {\n",
       "        vertical-align: middle;\n",
       "    }\n",
       "\n",
       "    .dataframe tbody tr th {\n",
       "        vertical-align: top;\n",
       "    }\n",
       "\n",
       "    .dataframe thead th {\n",
       "        text-align: right;\n",
       "    }\n",
       "</style>\n",
       "<table border=\"1\" class=\"dataframe\">\n",
       "  <thead>\n",
       "    <tr style=\"text-align: right;\">\n",
       "      <th></th>\n",
       "      <th>HY_YN</th>\n",
       "      <th>AGE</th>\n",
       "      <th>WAIST</th>\n",
       "      <th>BP_HIGH</th>\n",
       "      <th>BP_LWST</th>\n",
       "      <th>BLDS</th>\n",
       "      <th>TOT_CHOLE</th>\n",
       "      <th>SGOT_ASL</th>\n",
       "      <th>SGPT_ALT</th>\n",
       "      <th>GAMMA_GTP</th>\n",
       "      <th>HMG</th>\n",
       "    </tr>\n",
       "  </thead>\n",
       "  <tbody>\n",
       "    <tr>\n",
       "      <th>count</th>\n",
       "      <td>21613.000000</td>\n",
       "      <td>21613.000000</td>\n",
       "      <td>21569.000000</td>\n",
       "      <td>21610.000000</td>\n",
       "      <td>21610.000000</td>\n",
       "      <td>21612.000000</td>\n",
       "      <td>21613.000000</td>\n",
       "      <td>21586.000000</td>\n",
       "      <td>21591.000000</td>\n",
       "      <td>21532.000000</td>\n",
       "      <td>21607.000000</td>\n",
       "    </tr>\n",
       "    <tr>\n",
       "      <th>mean</th>\n",
       "      <td>0.249988</td>\n",
       "      <td>42.632721</td>\n",
       "      <td>79.605220</td>\n",
       "      <td>118.843822</td>\n",
       "      <td>74.307589</td>\n",
       "      <td>94.031094</td>\n",
       "      <td>191.676954</td>\n",
       "      <td>24.345270</td>\n",
       "      <td>24.870965</td>\n",
       "      <td>33.603427</td>\n",
       "      <td>14.066872</td>\n",
       "    </tr>\n",
       "    <tr>\n",
       "      <th>std</th>\n",
       "      <td>0.433016</td>\n",
       "      <td>11.609856</td>\n",
       "      <td>8.996495</td>\n",
       "      <td>11.375061</td>\n",
       "      <td>7.948683</td>\n",
       "      <td>20.924283</td>\n",
       "      <td>35.601369</td>\n",
       "      <td>11.446885</td>\n",
       "      <td>18.145078</td>\n",
       "      <td>32.366754</td>\n",
       "      <td>1.604155</td>\n",
       "    </tr>\n",
       "    <tr>\n",
       "      <th>min</th>\n",
       "      <td>0.000000</td>\n",
       "      <td>20.000000</td>\n",
       "      <td>5.000000</td>\n",
       "      <td>80.000000</td>\n",
       "      <td>42.000000</td>\n",
       "      <td>40.000000</td>\n",
       "      <td>66.000000</td>\n",
       "      <td>2.000000</td>\n",
       "      <td>2.000000</td>\n",
       "      <td>2.000000</td>\n",
       "      <td>1.500000</td>\n",
       "    </tr>\n",
       "    <tr>\n",
       "      <th>25%</th>\n",
       "      <td>0.000000</td>\n",
       "      <td>33.000000</td>\n",
       "      <td>73.000000</td>\n",
       "      <td>110.000000</td>\n",
       "      <td>70.000000</td>\n",
       "      <td>83.000000</td>\n",
       "      <td>166.000000</td>\n",
       "      <td>18.000000</td>\n",
       "      <td>14.000000</td>\n",
       "      <td>15.000000</td>\n",
       "      <td>13.000000</td>\n",
       "    </tr>\n",
       "    <tr>\n",
       "      <th>50%</th>\n",
       "      <td>0.000000</td>\n",
       "      <td>42.000000</td>\n",
       "      <td>80.000000</td>\n",
       "      <td>120.000000</td>\n",
       "      <td>75.000000</td>\n",
       "      <td>91.000000</td>\n",
       "      <td>189.000000</td>\n",
       "      <td>22.000000</td>\n",
       "      <td>20.000000</td>\n",
       "      <td>23.000000</td>\n",
       "      <td>14.100000</td>\n",
       "    </tr>\n",
       "    <tr>\n",
       "      <th>75%</th>\n",
       "      <td>0.000000</td>\n",
       "      <td>51.000000</td>\n",
       "      <td>86.000000</td>\n",
       "      <td>130.000000</td>\n",
       "      <td>80.000000</td>\n",
       "      <td>99.000000</td>\n",
       "      <td>213.000000</td>\n",
       "      <td>27.000000</td>\n",
       "      <td>29.000000</td>\n",
       "      <td>38.000000</td>\n",
       "      <td>15.300000</td>\n",
       "    </tr>\n",
       "    <tr>\n",
       "      <th>max</th>\n",
       "      <td>1.000000</td>\n",
       "      <td>69.000000</td>\n",
       "      <td>122.000000</td>\n",
       "      <td>139.000000</td>\n",
       "      <td>89.000000</td>\n",
       "      <td>500.000000</td>\n",
       "      <td>468.000000</td>\n",
       "      <td>196.000000</td>\n",
       "      <td>198.000000</td>\n",
       "      <td>300.000000</td>\n",
       "      <td>19.200000</td>\n",
       "    </tr>\n",
       "  </tbody>\n",
       "</table>\n",
       "</div>"
      ],
      "text/plain": [
       "              HY_YN           AGE         WAIST       BP_HIGH       BP_LWST  \\\n",
       "count  21613.000000  21613.000000  21569.000000  21610.000000  21610.000000   \n",
       "mean       0.249988     42.632721     79.605220    118.843822     74.307589   \n",
       "std        0.433016     11.609856      8.996495     11.375061      7.948683   \n",
       "min        0.000000     20.000000      5.000000     80.000000     42.000000   \n",
       "25%        0.000000     33.000000     73.000000    110.000000     70.000000   \n",
       "50%        0.000000     42.000000     80.000000    120.000000     75.000000   \n",
       "75%        0.000000     51.000000     86.000000    130.000000     80.000000   \n",
       "max        1.000000     69.000000    122.000000    139.000000     89.000000   \n",
       "\n",
       "               BLDS     TOT_CHOLE      SGOT_ASL      SGPT_ALT     GAMMA_GTP  \\\n",
       "count  21612.000000  21613.000000  21586.000000  21591.000000  21532.000000   \n",
       "mean      94.031094    191.676954     24.345270     24.870965     33.603427   \n",
       "std       20.924283     35.601369     11.446885     18.145078     32.366754   \n",
       "min       40.000000     66.000000      2.000000      2.000000      2.000000   \n",
       "25%       83.000000    166.000000     18.000000     14.000000     15.000000   \n",
       "50%       91.000000    189.000000     22.000000     20.000000     23.000000   \n",
       "75%       99.000000    213.000000     27.000000     29.000000     38.000000   \n",
       "max      500.000000    468.000000    196.000000    198.000000    300.000000   \n",
       "\n",
       "                HMG  \n",
       "count  21607.000000  \n",
       "mean      14.066872  \n",
       "std        1.604155  \n",
       "min        1.500000  \n",
       "25%       13.000000  \n",
       "50%       14.100000  \n",
       "75%       15.300000  \n",
       "max       19.200000  "
      ]
     },
     "execution_count": 11,
     "metadata": {},
     "output_type": "execute_result"
    }
   ],
   "source": [
    "df.describe()"
   ]
  },
  {
   "cell_type": "code",
   "execution_count": 12,
   "metadata": {},
   "outputs": [
    {
     "data": {
      "image/png": "[encoded data removed]",
      "text/plain": [
       "<Figure size 1440x1080 with 12 Axes>"
      ]
     },
     "metadata": {
      "needs_background": "light"
     },
     "output_type": "display_data"
    }
   ],
   "source": [
    "df.hist(bins=100, figsize=(20, 15))\n",
    "plt.show()"
   ]
  },
  {
   "cell_type": "code",
   "execution_count": 13,
   "metadata": {},
   "outputs": [],
   "source": [
    "df = df[df['TOT_CHOLE'] < 350]\n",
    "df = df[df['GAMMA_GTP'] < 200]\n",
    "df = df[df['SGPT_ALT'] < 100]"
   ]
  },
  {
   "cell_type": "code",
   "execution_count": 14,
   "metadata": {},
   "outputs": [
    {
     "name": "stdout",
     "output_type": "stream",
     "text": [
      "<class 'pandas.core.frame.DataFrame'>\n",
      "Int64Index: 21182 entries, 0 to 21612\n",
      "Data columns (total 22 columns):\n",
      " #   Column       Non-Null Count  Dtype  \n",
      "---  ------       --------------  -----  \n",
      " 0   HY_YN        21182 non-null  int64  \n",
      " 1   AGE          21182 non-null  int64  \n",
      " 2   gender       21182 non-null  object \n",
      " 3   WAIST        21139 non-null  float64\n",
      " 4   BP_HIGH      21179 non-null  float64\n",
      " 5   BP_LWST      21179 non-null  float64\n",
      " 6   BLDS         21181 non-null  float64\n",
      " 7   TOT_CHOLE    21182 non-null  float64\n",
      " 8   SGOT_ASL     21178 non-null  float64\n",
      " 9   SGPT_ALT     21182 non-null  float64\n",
      " 10  GAMMA_GTP    21182 non-null  float64\n",
      " 11  HMG          21176 non-null  float64\n",
      " 12  H_APOP_YN    21182 non-null  object \n",
      " 13  H_HDISE_YN   21182 non-null  object \n",
      " 14  H_DIABML_YN  21182 non-null  object \n",
      " 15  F_APOP_YN    21182 non-null  object \n",
      " 16  F_HDISE_YN   21182 non-null  object \n",
      " 17  F_HPRT_YN    21182 non-null  object \n",
      " 18  F_DIABML_YN  21182 non-null  object \n",
      " 19  DSQTY        21182 non-null  object \n",
      " 20  SMK_TERM     21182 non-null  object \n",
      " 21  EXER_M       21182 non-null  object \n",
      "dtypes: float64(9), int64(2), object(11)\n",
      "memory usage: 3.7+ MB\n"
     ]
    }
   ],
   "source": [
    "df.info()"
   ]
  },
  {
   "cell_type": "code",
   "execution_count": 15,
   "metadata": {},
   "outputs": [],
   "source": [
    "from sklearn.model_selection import train_test_split"
   ]
  },
  {
   "cell_type": "code",
   "execution_count": 16,
   "metadata": {},
   "outputs": [],
   "source": [
    "training_set, test_set = train_test_split(df, test_size=0.2, random_state=200422, stratify=df[['HY_YN']])"
   ]
  },
  {
   "cell_type": "code",
   "execution_count": 17,
   "metadata": {},
   "outputs": [
    {
     "name": "stdout",
     "output_type": "stream",
     "text": [
      "Training samples: 16945, Test samples: 4237\n"
     ]
    }
   ],
   "source": [
    "TR_LENGTH = len(training_set)\n",
    "TE_LENGTH = len(test_set)\n",
    "\n",
    "print(f'Training samples: {TR_LENGTH}, Test samples: {TE_LENGTH}')"
   ]
  },
  {
   "cell_type": "code",
   "execution_count": 18,
   "metadata": {},
   "outputs": [
    {
     "data": {
      "text/plain": [
       "0    12760\n",
       "1     4185\n",
       "Name: HY_YN, dtype: int64"
      ]
     },
     "execution_count": 18,
     "metadata": {},
     "output_type": "execute_result"
    }
   ],
   "source": [
    "training_set['HY_YN'].value_counts()"
   ]
  },
  {
   "cell_type": "code",
   "execution_count": 19,
   "metadata": {},
   "outputs": [
    {
     "name": "stdout",
     "output_type": "stream",
     "text": [
      "Ratio of HY_YN in training set 0 : 1 = 1:0.3280\n"
     ]
    }
   ],
   "source": [
    "ratio = len(training_set['HY_YN'][training_set['HY_YN'] == 1]) / len(training_set['HY_YN'][training_set['HY_YN'] == 0])\n",
    "print(f'Ratio of HY_YN in training set 0 : 1 = 1:{ratio:.4f}')"
   ]
  },
  {
   "cell_type": "code",
   "execution_count": 20,
   "metadata": {},
   "outputs": [
    {
     "data": {
      "text/plain": [
       "0    3191\n",
       "1    1046\n",
       "Name: HY_YN, dtype: int64"
      ]
     },
     "execution_count": 20,
     "metadata": {},
     "output_type": "execute_result"
    }
   ],
   "source": [
    "test_set['HY_YN'].value_counts()"
   ]
  },
  {
   "cell_type": "code",
   "execution_count": 21,
   "metadata": {},
   "outputs": [
    {
     "name": "stdout",
     "output_type": "stream",
     "text": [
      "Ratio of HY_YN in training set 0 : 1 = 1:0.3278\n"
     ]
    }
   ],
   "source": [
    "ratio = len(test_set['HY_YN'][test_set['HY_YN'] == 1]) / len(test_set['HY_YN'][test_set['HY_YN'] == 0])\n",
    "print(f'Ratio of HY_YN in training set 0 : 1 = 1:{ratio:.4f}')"
   ]
  },
  {
   "cell_type": "markdown",
   "metadata": {},
   "source": [
    "Now See the realtionship between non-numeric variables and the HY_YN\n",
    "\n",
    "non-numeric values : gender,H_APOP_YN,H_HDISE_YN,H_DIABML_YN,F_APOP_YN,F_HDISE_YN,F_HPRT_YN,F_DIABML_YN,DSQTY"
   ]
  },
  {
   "cell_type": "code",
   "execution_count": 22,
   "metadata": {},
   "outputs": [],
   "source": [
    "data = training_set.copy()"
   ]
  },
  {
   "cell_type": "code",
   "execution_count": 23,
   "metadata": {},
   "outputs": [
    {
     "data": {
      "image/png": "[encoded data removed]",
      "text/plain": [
       "<Figure size 1080x432 with 1 Axes>"
      ]
     },
     "metadata": {
      "needs_background": "light"
     },
     "output_type": "display_data"
    }
   ],
   "source": [
    "pd.crosstab(data['gender'], data['HY_YN']).plot(kind='bar', figsize=(15, 6))\n",
    "plt.title('HY_YN for gender (0:Female, 1:Male) ')\n",
    "plt.xlabel('')\n",
    "plt.legend(['No', 'Yes'])\n",
    "plt.show()"
   ]
  },
  {
   "cell_type": "code",
   "execution_count": 24,
   "metadata": {},
   "outputs": [
    {
     "data": {
      "image/png": "[encoded data removed]",
      "text/plain": [
       "<Figure size 1080x432 with 1 Axes>"
      ]
     },
     "metadata": {
      "needs_background": "light"
     },
     "output_type": "display_data"
    }
   ],
   "source": [
    "pd.crosstab(data['H_APOP_YN'], data['HY_YN']).plot(kind='bar', figsize=(15, 6))\n",
    "plt.title('HY_YN for Past history of apoplexy(stroke) (0: No, 1: Yes) ')\n",
    "plt.xlabel('Past history of apoplexy(stroke)')\n",
    "plt.legend(['No', 'Yes'])\n",
    "plt.show()"
   ]
  },
  {
   "cell_type": "code",
   "execution_count": 25,
   "metadata": {},
   "outputs": [
    {
     "data": {
      "image/png": "[encoded data removed]",
      "text/plain": [
       "<Figure size 1080x432 with 1 Axes>"
      ]
     },
     "metadata": {
      "needs_background": "light"
     },
     "output_type": "display_data"
    }
   ],
   "source": [
    "pd.crosstab(data['H_HDISE_YN'], data['HY_YN']).plot(kind='bar', figsize=(15, 6))\n",
    "plt.title('HY_YN for Past history of heart disease (0: No, 1: Yes) ')\n",
    "plt.xlabel('Past history of heart disease (0: No, 1: Yes)')\n",
    "plt.legend(['No', 'Yes'])\n",
    "plt.show()"
   ]
  },
  {
   "cell_type": "code",
   "execution_count": 26,
   "metadata": {},
   "outputs": [
    {
     "data": {
      "image/png": "[encoded data removed]",
      "text/plain": [
       "<Figure size 1080x432 with 1 Axes>"
      ]
     },
     "metadata": {
      "needs_background": "light"
     },
     "output_type": "display_data"
    }
   ],
   "source": [
    "pd.crosstab(data['H_DIABML_YN'], data['HY_YN']).plot(kind='bar', figsize=(15, 6))\n",
    "plt.title('HY_YN for Past history of diabetes mellitus')\n",
    "plt.xlabel('Past history of diabetes mellitus (0: No, 1: Yes)')\n",
    "plt.legend(['No', 'Yes'])\n",
    "plt.show()"
   ]
  },
  {
   "cell_type": "code",
   "execution_count": 27,
   "metadata": {},
   "outputs": [
    {
     "data": {
      "image/png": "[encoded data removed]",
      "text/plain": [
       "<Figure size 1080x432 with 1 Axes>"
      ]
     },
     "metadata": {
      "needs_background": "light"
     },
     "output_type": "display_data"
    }
   ],
   "source": [
    "pd.crosstab(data['F_APOP_YN'], data['HY_YN']).plot(kind='bar', figsize=(15, 6))\n",
    "plt.title('HY_YN for Family history of apoplexy(stroke) ')\n",
    "plt.xlabel('Family history of apoplexy(stroke) (0: No, 1: Yes)')\n",
    "plt.legend(['No', 'Yes'])\n",
    "plt.show()"
   ]
  },
  {
   "cell_type": "code",
   "execution_count": 28,
   "metadata": {},
   "outputs": [
    {
     "data": {
      "image/png": "[encoded data removed]",
      "text/plain": [
       "<Figure size 1080x432 with 1 Axes>"
      ]
     },
     "metadata": {
      "needs_background": "light"
     },
     "output_type": "display_data"
    }
   ],
   "source": [
    "pd.crosstab(data['F_HDISE_YN'], data['HY_YN']).plot(kind='bar', figsize=(15, 6))\n",
    "plt.title('HY_YN for Family history of heart disease ')\n",
    "plt.xlabel('Family history of heart disease (0: No, 1: Yes)')\n",
    "plt.legend(['No', 'Yes'])\n",
    "plt.show()"
   ]
  },
  {
   "cell_type": "code",
   "execution_count": 29,
   "metadata": {},
   "outputs": [
    {
     "data": {
      "image/png": "[encoded data removed]",
      "text/plain": [
       "<Figure size 1080x432 with 1 Axes>"
      ]
     },
     "metadata": {
      "needs_background": "light"
     },
     "output_type": "display_data"
    }
   ],
   "source": [
    "pd.crosstab(data['F_HPRT_YN'], data['HY_YN']).plot(kind='bar', figsize=(15, 6))\n",
    "plt.title('HY_YN for Family history of hypertension')\n",
    "plt.xlabel('Family history of hypertension (0: No, 1: Yes)')\n",
    "plt.legend(['No', 'Yes'])\n",
    "plt.show()"
   ]
  },
  {
   "cell_type": "code",
   "execution_count": 30,
   "metadata": {},
   "outputs": [
    {
     "data": {
      "image/png": "[encoded data removed]",
      "text/plain": [
       "<Figure size 1080x432 with 1 Axes>"
      ]
     },
     "metadata": {
      "needs_background": "light"
     },
     "output_type": "display_data"
    }
   ],
   "source": [
    "pd.crosstab(data['F_DIABML_YN'], data['HY_YN']).plot(kind='bar', figsize=(15, 6))\n",
    "plt.title('HY_YN for Family history of diabetes mellitus')\n",
    "plt.xlabel('Family history of diabetes mellitus (0: No, 1: Yes)')\n",
    "plt.legend(['No', 'Yes'])\n",
    "plt.show()"
   ]
  },
  {
   "cell_type": "code",
   "execution_count": 31,
   "metadata": {},
   "outputs": [
    {
     "data": {
      "image/png": "[encoded data removed]",
      "text/plain": [
       "<Figure size 1080x432 with 1 Axes>"
      ]
     },
     "metadata": {
      "needs_background": "light"
     },
     "output_type": "display_data"
    }
   ],
   "source": [
    "pd.crosstab(data['DSQTY'], data['HY_YN']).plot(kind='bar', figsize=(15, 6))\n",
    "plt.title('HY_YN for Daily smoking amount (cigarettes)')\n",
    "plt.xlabel('Daily smoking amount (cigarettes)')\n",
    "plt.legend(['No', 'Yes'])\n",
    "plt.show()"
   ]
  },
  {
   "cell_type": "code",
   "execution_count": 32,
   "metadata": {},
   "outputs": [
    {
     "data": {
      "image/png": "[encoded data removed]",
      "text/plain": [
       "<Figure size 1080x432 with 1 Axes>"
      ]
     },
     "metadata": {
      "needs_background": "light"
     },
     "output_type": "display_data"
    }
   ],
   "source": [
    "pd.crosstab(data['SMK_TERM'], data['HY_YN']).plot(kind='bar', figsize=(15, 6))\n",
    "plt.title('HY_YN for Smoking duration (years)')\n",
    "plt.xlabel('Smoking duration (years)')\n",
    "plt.legend(['No', 'Yes'])\n",
    "plt.show()"
   ]
  },
  {
   "cell_type": "code",
   "execution_count": 33,
   "metadata": {},
   "outputs": [
    {
     "data": {
      "image/png": "[encoded data removed]",
      "text/plain": [
       "<Figure size 1080x432 with 1 Axes>"
      ]
     },
     "metadata": {
      "needs_background": "light"
     },
     "output_type": "display_data"
    }
   ],
   "source": [
    "pd.crosstab(data['EXER_M'], data['HY_YN']).plot(kind='bar', figsize=(15, 6))\n",
    "plt.title('HY_YN for Moderate exercise')\n",
    "plt.xlabel('Moderate exercise')\n",
    "plt.legend(['No', 'Yes'])\n",
    "plt.show()"
   ]
  },
  {
   "cell_type": "markdown",
   "metadata": {},
   "source": [
    "I want to remove \"H_APOP_YN\",\"H_DIABML_YN\",\"H_HDISE_YN\" features. Since \"H_APOP_YN(Past history of apoplexy(stroke))\" and \"H_DIABML_YN(ast history of heart disease)\" amolst doesn't have any occurred data. Maybe the data was mistakenly collected or the population was biased at first."
   ]
  },
  {
   "cell_type": "code",
   "execution_count": 34,
   "metadata": {},
   "outputs": [
    {
     "data": {
      "text/plain": [
       "0    4236\n",
       "1       1\n",
       "Name: H_APOP_YN, dtype: int64"
      ]
     },
     "execution_count": 34,
     "metadata": {},
     "output_type": "execute_result"
    }
   ],
   "source": [
    "test_set['H_APOP_YN'].value_counts()"
   ]
  },
  {
   "cell_type": "code",
   "execution_count": 35,
   "metadata": {},
   "outputs": [
    {
     "data": {
      "text/plain": [
       "0    4227\n",
       "1      10\n",
       "Name: H_DIABML_YN, dtype: int64"
      ]
     },
     "execution_count": 35,
     "metadata": {},
     "output_type": "execute_result"
    }
   ],
   "source": [
    "test_set['H_DIABML_YN'].value_counts()"
   ]
  },
  {
   "cell_type": "code",
   "execution_count": 36,
   "metadata": {},
   "outputs": [
    {
     "data": {
      "text/plain": [
       "0    4232\n",
       "1       5\n",
       "Name: H_HDISE_YN, dtype: int64"
      ]
     },
     "execution_count": 36,
     "metadata": {},
     "output_type": "execute_result"
    }
   ],
   "source": [
    "test_set['H_HDISE_YN'].value_counts()"
   ]
  },
  {
   "cell_type": "markdown",
   "metadata": {},
   "source": [
    "### As we can see, the ouccurence of these two features are too biased. So I'll remove it."
   ]
  },
  {
   "cell_type": "code",
   "execution_count": 37,
   "metadata": {},
   "outputs": [],
   "source": [
    "data.drop(data.columns[[12,13,14]],axis = 1, inplace = True)"
   ]
  },
  {
   "cell_type": "code",
   "execution_count": 38,
   "metadata": {},
   "outputs": [
    {
     "data": {
      "text/html": [
       "<div>\n",
       "<style scoped>\n",
       "    .dataframe tbody tr th:only-of-type {\n",
       "        vertical-align: middle;\n",
       "    }\n",
       "\n",
       "    .dataframe tbody tr th {\n",
       "        vertical-align: top;\n",
       "    }\n",
       "\n",
       "    .dataframe thead th {\n",
       "        text-align: right;\n",
       "    }\n",
       "</style>\n",
       "<table border=\"1\" class=\"dataframe\">\n",
       "  <thead>\n",
       "    <tr style=\"text-align: right;\">\n",
       "      <th></th>\n",
       "      <th>HY_YN</th>\n",
       "      <th>AGE</th>\n",
       "      <th>gender</th>\n",
       "      <th>WAIST</th>\n",
       "      <th>BP_HIGH</th>\n",
       "      <th>BP_LWST</th>\n",
       "      <th>BLDS</th>\n",
       "      <th>TOT_CHOLE</th>\n",
       "      <th>SGOT_ASL</th>\n",
       "      <th>SGPT_ALT</th>\n",
       "      <th>GAMMA_GTP</th>\n",
       "      <th>HMG</th>\n",
       "      <th>F_APOP_YN</th>\n",
       "      <th>F_HDISE_YN</th>\n",
       "      <th>F_HPRT_YN</th>\n",
       "      <th>F_DIABML_YN</th>\n",
       "      <th>DSQTY</th>\n",
       "      <th>SMK_TERM</th>\n",
       "      <th>EXER_M</th>\n",
       "    </tr>\n",
       "  </thead>\n",
       "  <tbody>\n",
       "    <tr>\n",
       "      <th>15537</th>\n",
       "      <td>0</td>\n",
       "      <td>66</td>\n",
       "      <td>0</td>\n",
       "      <td>78.0</td>\n",
       "      <td>113.0</td>\n",
       "      <td>69.0</td>\n",
       "      <td>192.0</td>\n",
       "      <td>223.0</td>\n",
       "      <td>23.0</td>\n",
       "      <td>20.0</td>\n",
       "      <td>26.0</td>\n",
       "      <td>14.0</td>\n",
       "      <td>0</td>\n",
       "      <td>0</td>\n",
       "      <td>0</td>\n",
       "      <td>1</td>\n",
       "      <td>0</td>\n",
       "      <td>0</td>\n",
       "      <td>2</td>\n",
       "    </tr>\n",
       "    <tr>\n",
       "      <th>309</th>\n",
       "      <td>1</td>\n",
       "      <td>46</td>\n",
       "      <td>1</td>\n",
       "      <td>94.0</td>\n",
       "      <td>110.0</td>\n",
       "      <td>80.0</td>\n",
       "      <td>102.0</td>\n",
       "      <td>209.0</td>\n",
       "      <td>17.0</td>\n",
       "      <td>12.0</td>\n",
       "      <td>53.0</td>\n",
       "      <td>14.1</td>\n",
       "      <td>0</td>\n",
       "      <td>0</td>\n",
       "      <td>0</td>\n",
       "      <td>0</td>\n",
       "      <td>0</td>\n",
       "      <td>0</td>\n",
       "      <td>1</td>\n",
       "    </tr>\n",
       "    <tr>\n",
       "      <th>20449</th>\n",
       "      <td>0</td>\n",
       "      <td>44</td>\n",
       "      <td>1</td>\n",
       "      <td>84.0</td>\n",
       "      <td>120.0</td>\n",
       "      <td>80.0</td>\n",
       "      <td>99.0</td>\n",
       "      <td>178.0</td>\n",
       "      <td>29.0</td>\n",
       "      <td>28.0</td>\n",
       "      <td>36.0</td>\n",
       "      <td>14.0</td>\n",
       "      <td>0</td>\n",
       "      <td>0</td>\n",
       "      <td>0</td>\n",
       "      <td>0</td>\n",
       "      <td>0</td>\n",
       "      <td>0</td>\n",
       "      <td>0</td>\n",
       "    </tr>\n",
       "    <tr>\n",
       "      <th>16077</th>\n",
       "      <td>0</td>\n",
       "      <td>25</td>\n",
       "      <td>1</td>\n",
       "      <td>88.0</td>\n",
       "      <td>120.0</td>\n",
       "      <td>80.0</td>\n",
       "      <td>82.0</td>\n",
       "      <td>235.0</td>\n",
       "      <td>32.0</td>\n",
       "      <td>34.0</td>\n",
       "      <td>32.0</td>\n",
       "      <td>16.0</td>\n",
       "      <td>0</td>\n",
       "      <td>0</td>\n",
       "      <td>0</td>\n",
       "      <td>0</td>\n",
       "      <td>3</td>\n",
       "      <td>2</td>\n",
       "      <td>0</td>\n",
       "    </tr>\n",
       "    <tr>\n",
       "      <th>11963</th>\n",
       "      <td>0</td>\n",
       "      <td>52</td>\n",
       "      <td>1</td>\n",
       "      <td>84.0</td>\n",
       "      <td>127.0</td>\n",
       "      <td>81.0</td>\n",
       "      <td>79.0</td>\n",
       "      <td>176.0</td>\n",
       "      <td>31.0</td>\n",
       "      <td>29.0</td>\n",
       "      <td>48.0</td>\n",
       "      <td>15.8</td>\n",
       "      <td>0</td>\n",
       "      <td>0</td>\n",
       "      <td>0</td>\n",
       "      <td>0</td>\n",
       "      <td>0</td>\n",
       "      <td>0</td>\n",
       "      <td>2</td>\n",
       "    </tr>\n",
       "  </tbody>\n",
       "</table>\n",
       "</div>"
      ],
      "text/plain": [
       "       HY_YN  AGE gender  WAIST  BP_HIGH  BP_LWST   BLDS  TOT_CHOLE  SGOT_ASL  \\\n",
       "15537      0   66      0   78.0    113.0     69.0  192.0      223.0      23.0   \n",
       "309        1   46      1   94.0    110.0     80.0  102.0      209.0      17.0   \n",
       "20449      0   44      1   84.0    120.0     80.0   99.0      178.0      29.0   \n",
       "16077      0   25      1   88.0    120.0     80.0   82.0      235.0      32.0   \n",
       "11963      0   52      1   84.0    127.0     81.0   79.0      176.0      31.0   \n",
       "\n",
       "       SGPT_ALT  GAMMA_GTP   HMG F_APOP_YN F_HDISE_YN F_HPRT_YN F_DIABML_YN  \\\n",
       "15537      20.0       26.0  14.0         0          0         0           1   \n",
       "309        12.0       53.0  14.1         0          0         0           0   \n",
       "20449      28.0       36.0  14.0         0          0         0           0   \n",
       "16077      34.0       32.0  16.0         0          0         0           0   \n",
       "11963      29.0       48.0  15.8         0          0         0           0   \n",
       "\n",
       "      DSQTY SMK_TERM EXER_M  \n",
       "15537     0        0      2  \n",
       "309       0        0      1  \n",
       "20449     0        0      0  \n",
       "16077     3        2      0  \n",
       "11963     0        0      2  "
      ]
     },
     "execution_count": 38,
     "metadata": {},
     "output_type": "execute_result"
    }
   ],
   "source": [
    "data.head()"
   ]
  },
  {
   "cell_type": "markdown",
   "metadata": {},
   "source": [
    "* We can also check relationship between two numeric variables along with target label\n",
    "- Use `scatter()` function in matplotlib package"
   ]
  },
  {
   "cell_type": "code",
   "execution_count": 39,
   "metadata": {},
   "outputs": [
    {
     "data": {
      "image/png": "[encoded data removed]",
      "text/plain": [
       "<Figure size 432x288 with 1 Axes>"
      ]
     },
     "metadata": {
      "needs_background": "light"
     },
     "output_type": "display_data"
    }
   ],
   "source": [
    "plt.scatter(data['AGE'][data['HY_YN']==0], data['BP_HIGH'][data['HY_YN']==0])\n",
    "plt.scatter(data['AGE'][data['HY_YN']==1], data['BP_HIGH'][data['HY_YN']==1])\n",
    "plt.legend(['No Disease', 'Yes Disease'])\n",
    "plt.xlabel('AGE')\n",
    "plt.ylabel('BP_HIGH(Systolic blood pressure (mmHg))')\n",
    "plt.show()"
   ]
  },
  {
   "cell_type": "markdown",
   "metadata": {},
   "source": [
    "## Investigate the correlation"
   ]
  },
  {
   "cell_type": "markdown",
   "metadata": {},
   "source": [
    "Investigate the correlation between numerical values using pearson-correlation"
   ]
  },
  {
   "cell_type": "code",
   "execution_count": 40,
   "metadata": {},
   "outputs": [
    {
     "name": "stdout",
     "output_type": "stream",
     "text": [
      "          15537     309       20449     16077     11963     1420      14848  \\\n",
      "15537  1.000000  0.915740  0.922022  0.863916  0.865676  0.909131  0.892311   \n",
      "309    0.915740  1.000000  0.982138  0.969043  0.974666  0.901356  0.981752   \n",
      "20449  0.922022  0.982138  1.000000  0.970156  0.988492  0.959377  0.988909   \n",
      "16077  0.863916  0.969043  0.970156  1.000000  0.966873  0.897077  0.981452   \n",
      "11963  0.865676  0.974666  0.988492  0.966873  1.000000  0.932104  0.979632   \n",
      "...         ...       ...       ...       ...       ...       ...       ...   \n",
      "10770  0.854947  0.974773  0.956760  0.983369  0.967237  0.867485  0.965001   \n",
      "1273   0.921956  0.968430  0.987340  0.981498  0.972289  0.950328  0.980421   \n",
      "11247  0.855546  0.956699  0.973036  0.953366  0.984836  0.911632  0.964844   \n",
      "20609  0.880704  0.976199  0.989699  0.984680  0.990597  0.930834  0.987615   \n",
      "2914   0.924904  0.986512  0.983541  0.988824  0.967994  0.917969  0.983735   \n",
      "\n",
      "          14632     12641     560    ...     10506     4457      1480   \\\n",
      "15537  0.850524  0.915334  0.882755  ...  0.906726  0.842118  0.884781   \n",
      "309    0.932103  0.970369  0.977105  ...  0.957158  0.870243  0.978194   \n",
      "20449  0.940895  0.973014  0.977457  ...  0.986747  0.926279  0.992458   \n",
      "16077  0.981969  0.989385  0.983797  ...  0.923618  0.829022  0.966740   \n",
      "11963  0.936948  0.951194  0.979900  ...  0.978221  0.905638  0.994281   \n",
      "...         ...       ...       ...  ...       ...       ...       ...   \n",
      "10770  0.957121  0.963418  0.991005  ...  0.912728  0.794518  0.958162   \n",
      "1273   0.974197  0.989736  0.972441  ...  0.958818  0.876292  0.975575   \n",
      "11247  0.935289  0.946907  0.951075  ...  0.969286  0.896988  0.988738   \n",
      "20609  0.952291  0.973639  0.987808  ...  0.969432  0.897514  0.993461   \n",
      "2914   0.968321  0.994768  0.982917  ...  0.947152  0.855323  0.974385   \n",
      "\n",
      "          19771     20860     10770     1273      11247     20609     2914   \n",
      "15537  0.917134  0.792532  0.854947  0.921956  0.855546  0.880704  0.924904  \n",
      "309    0.970315  0.950168  0.974773  0.968430  0.956699  0.976199  0.986512  \n",
      "20449  0.983691  0.917538  0.956760  0.987340  0.973036  0.989699  0.983541  \n",
      "16077  0.974929  0.919512  0.983369  0.981498  0.953366  0.984680  0.988824  \n",
      "11963  0.973965  0.943038  0.967237  0.972289  0.984836  0.990597  0.967994  \n",
      "...         ...       ...       ...       ...       ...       ...       ...  \n",
      "10770  0.958215  0.964008  1.000000  0.960217  0.944632  0.976085  0.978179  \n",
      "1273   0.994256  0.883085  0.960217  1.000000  0.969469  0.982925  0.990656  \n",
      "11247  0.982948  0.892487  0.944632  0.969469  1.000000  0.979654  0.959137  \n",
      "20609  0.983436  0.933440  0.976085  0.982925  0.979654  1.000000  0.984618  \n",
      "2914   0.988423  0.916161  0.978179  0.990656  0.959137  0.984618  1.000000  \n",
      "\n",
      "[16945 rows x 16945 columns]\n"
     ]
    }
   ],
   "source": [
    "list = [data['HY_YN'],data['AGE'], data['WAIST'], data['BP_HIGH'], data['BP_LWST'], data['BLDS'], data['TOT_CHOLE'], data['SGOT_ASL'], data['SGPT_ALT'], data['GAMMA_GTP'], data['HMG']]\n",
    "df_corr = pd.DataFrame(list)\n",
    "corr = df_corr.corr(method = 'pearson')\n",
    "print(corr)"
   ]
  },
  {
   "cell_type": "markdown",
   "metadata": {},
   "source": [
    "### DATA CLEANSING"
   ]
  },
  {
   "cell_type": "markdown",
   "metadata": {},
   "source": [
    "1. delete the rows with missing features"
   ]
  },
  {
   "cell_type": "code",
   "execution_count": 41,
   "metadata": {},
   "outputs": [
    {
     "name": "stdout",
     "output_type": "stream",
     "text": [
      "<class 'pandas.core.frame.DataFrame'>\n",
      "Int64Index: 16945 entries, 15537 to 2914\n",
      "Data columns (total 19 columns):\n",
      " #   Column       Non-Null Count  Dtype  \n",
      "---  ------       --------------  -----  \n",
      " 0   HY_YN        16945 non-null  int64  \n",
      " 1   AGE          16945 non-null  int64  \n",
      " 2   gender       16945 non-null  object \n",
      " 3   WAIST        16906 non-null  float64\n",
      " 4   BP_HIGH      16943 non-null  float64\n",
      " 5   BP_LWST      16943 non-null  float64\n",
      " 6   BLDS         16945 non-null  float64\n",
      " 7   TOT_CHOLE    16945 non-null  float64\n",
      " 8   SGOT_ASL     16942 non-null  float64\n",
      " 9   SGPT_ALT     16945 non-null  float64\n",
      " 10  GAMMA_GTP    16945 non-null  float64\n",
      " 11  HMG          16939 non-null  float64\n",
      " 12  F_APOP_YN    16945 non-null  object \n",
      " 13  F_HDISE_YN   16945 non-null  object \n",
      " 14  F_HPRT_YN    16945 non-null  object \n",
      " 15  F_DIABML_YN  16945 non-null  object \n",
      " 16  DSQTY        16945 non-null  object \n",
      " 17  SMK_TERM     16945 non-null  object \n",
      " 18  EXER_M       16945 non-null  object \n",
      "dtypes: float64(9), int64(2), object(8)\n",
      "memory usage: 3.2+ MB\n"
     ]
    },
    {
     "data": {
      "text/html": [
       "<div>\n",
       "<style scoped>\n",
       "    .dataframe tbody tr th:only-of-type {\n",
       "        vertical-align: middle;\n",
       "    }\n",
       "\n",
       "    .dataframe tbody tr th {\n",
       "        vertical-align: top;\n",
       "    }\n",
       "\n",
       "    .dataframe thead th {\n",
       "        text-align: right;\n",
       "    }\n",
       "</style>\n",
       "<table border=\"1\" class=\"dataframe\">\n",
       "  <thead>\n",
       "    <tr style=\"text-align: right;\">\n",
       "      <th></th>\n",
       "      <th>HY_YN</th>\n",
       "      <th>AGE</th>\n",
       "      <th>gender</th>\n",
       "      <th>WAIST</th>\n",
       "      <th>BP_HIGH</th>\n",
       "      <th>BP_LWST</th>\n",
       "      <th>BLDS</th>\n",
       "      <th>TOT_CHOLE</th>\n",
       "      <th>SGOT_ASL</th>\n",
       "      <th>SGPT_ALT</th>\n",
       "      <th>GAMMA_GTP</th>\n",
       "      <th>HMG</th>\n",
       "      <th>F_APOP_YN</th>\n",
       "      <th>F_HDISE_YN</th>\n",
       "      <th>F_HPRT_YN</th>\n",
       "      <th>F_DIABML_YN</th>\n",
       "      <th>DSQTY</th>\n",
       "      <th>SMK_TERM</th>\n",
       "      <th>EXER_M</th>\n",
       "    </tr>\n",
       "  </thead>\n",
       "  <tbody>\n",
       "    <tr>\n",
       "      <th>15537</th>\n",
       "      <td>0</td>\n",
       "      <td>66</td>\n",
       "      <td>0</td>\n",
       "      <td>78.0</td>\n",
       "      <td>113.0</td>\n",
       "      <td>69.0</td>\n",
       "      <td>192.0</td>\n",
       "      <td>223.0</td>\n",
       "      <td>23.0</td>\n",
       "      <td>20.0</td>\n",
       "      <td>26.0</td>\n",
       "      <td>14.0</td>\n",
       "      <td>0</td>\n",
       "      <td>0</td>\n",
       "      <td>0</td>\n",
       "      <td>1</td>\n",
       "      <td>0</td>\n",
       "      <td>0</td>\n",
       "      <td>2</td>\n",
       "    </tr>\n",
       "    <tr>\n",
       "      <th>309</th>\n",
       "      <td>1</td>\n",
       "      <td>46</td>\n",
       "      <td>1</td>\n",
       "      <td>94.0</td>\n",
       "      <td>110.0</td>\n",
       "      <td>80.0</td>\n",
       "      <td>102.0</td>\n",
       "      <td>209.0</td>\n",
       "      <td>17.0</td>\n",
       "      <td>12.0</td>\n",
       "      <td>53.0</td>\n",
       "      <td>14.1</td>\n",
       "      <td>0</td>\n",
       "      <td>0</td>\n",
       "      <td>0</td>\n",
       "      <td>0</td>\n",
       "      <td>0</td>\n",
       "      <td>0</td>\n",
       "      <td>1</td>\n",
       "    </tr>\n",
       "    <tr>\n",
       "      <th>20449</th>\n",
       "      <td>0</td>\n",
       "      <td>44</td>\n",
       "      <td>1</td>\n",
       "      <td>84.0</td>\n",
       "      <td>120.0</td>\n",
       "      <td>80.0</td>\n",
       "      <td>99.0</td>\n",
       "      <td>178.0</td>\n",
       "      <td>29.0</td>\n",
       "      <td>28.0</td>\n",
       "      <td>36.0</td>\n",
       "      <td>14.0</td>\n",
       "      <td>0</td>\n",
       "      <td>0</td>\n",
       "      <td>0</td>\n",
       "      <td>0</td>\n",
       "      <td>0</td>\n",
       "      <td>0</td>\n",
       "      <td>0</td>\n",
       "    </tr>\n",
       "    <tr>\n",
       "      <th>16077</th>\n",
       "      <td>0</td>\n",
       "      <td>25</td>\n",
       "      <td>1</td>\n",
       "      <td>88.0</td>\n",
       "      <td>120.0</td>\n",
       "      <td>80.0</td>\n",
       "      <td>82.0</td>\n",
       "      <td>235.0</td>\n",
       "      <td>32.0</td>\n",
       "      <td>34.0</td>\n",
       "      <td>32.0</td>\n",
       "      <td>16.0</td>\n",
       "      <td>0</td>\n",
       "      <td>0</td>\n",
       "      <td>0</td>\n",
       "      <td>0</td>\n",
       "      <td>3</td>\n",
       "      <td>2</td>\n",
       "      <td>0</td>\n",
       "    </tr>\n",
       "    <tr>\n",
       "      <th>11963</th>\n",
       "      <td>0</td>\n",
       "      <td>52</td>\n",
       "      <td>1</td>\n",
       "      <td>84.0</td>\n",
       "      <td>127.0</td>\n",
       "      <td>81.0</td>\n",
       "      <td>79.0</td>\n",
       "      <td>176.0</td>\n",
       "      <td>31.0</td>\n",
       "      <td>29.0</td>\n",
       "      <td>48.0</td>\n",
       "      <td>15.8</td>\n",
       "      <td>0</td>\n",
       "      <td>0</td>\n",
       "      <td>0</td>\n",
       "      <td>0</td>\n",
       "      <td>0</td>\n",
       "      <td>0</td>\n",
       "      <td>2</td>\n",
       "    </tr>\n",
       "    <tr>\n",
       "      <th>...</th>\n",
       "      <td>...</td>\n",
       "      <td>...</td>\n",
       "      <td>...</td>\n",
       "      <td>...</td>\n",
       "      <td>...</td>\n",
       "      <td>...</td>\n",
       "      <td>...</td>\n",
       "      <td>...</td>\n",
       "      <td>...</td>\n",
       "      <td>...</td>\n",
       "      <td>...</td>\n",
       "      <td>...</td>\n",
       "      <td>...</td>\n",
       "      <td>...</td>\n",
       "      <td>...</td>\n",
       "      <td>...</td>\n",
       "      <td>...</td>\n",
       "      <td>...</td>\n",
       "      <td>...</td>\n",
       "    </tr>\n",
       "    <tr>\n",
       "      <th>10770</th>\n",
       "      <td>0</td>\n",
       "      <td>43</td>\n",
       "      <td>1</td>\n",
       "      <td>90.0</td>\n",
       "      <td>136.0</td>\n",
       "      <td>76.0</td>\n",
       "      <td>89.0</td>\n",
       "      <td>265.0</td>\n",
       "      <td>26.0</td>\n",
       "      <td>34.0</td>\n",
       "      <td>71.0</td>\n",
       "      <td>16.4</td>\n",
       "      <td>1</td>\n",
       "      <td>1</td>\n",
       "      <td>1</td>\n",
       "      <td>1</td>\n",
       "      <td>0</td>\n",
       "      <td>0</td>\n",
       "      <td>0</td>\n",
       "    </tr>\n",
       "    <tr>\n",
       "      <th>1273</th>\n",
       "      <td>1</td>\n",
       "      <td>44</td>\n",
       "      <td>0</td>\n",
       "      <td>74.0</td>\n",
       "      <td>109.0</td>\n",
       "      <td>67.0</td>\n",
       "      <td>90.0</td>\n",
       "      <td>187.0</td>\n",
       "      <td>28.0</td>\n",
       "      <td>34.0</td>\n",
       "      <td>17.0</td>\n",
       "      <td>12.0</td>\n",
       "      <td>0</td>\n",
       "      <td>0</td>\n",
       "      <td>0</td>\n",
       "      <td>0</td>\n",
       "      <td>0</td>\n",
       "      <td>0</td>\n",
       "      <td>0</td>\n",
       "    </tr>\n",
       "    <tr>\n",
       "      <th>11247</th>\n",
       "      <td>0</td>\n",
       "      <td>58</td>\n",
       "      <td>0</td>\n",
       "      <td>77.0</td>\n",
       "      <td>132.0</td>\n",
       "      <td>77.0</td>\n",
       "      <td>68.0</td>\n",
       "      <td>184.0</td>\n",
       "      <td>16.0</td>\n",
       "      <td>11.0</td>\n",
       "      <td>20.0</td>\n",
       "      <td>12.9</td>\n",
       "      <td>0</td>\n",
       "      <td>0</td>\n",
       "      <td>0</td>\n",
       "      <td>0</td>\n",
       "      <td>0</td>\n",
       "      <td>0</td>\n",
       "      <td>1</td>\n",
       "    </tr>\n",
       "    <tr>\n",
       "      <th>20609</th>\n",
       "      <td>0</td>\n",
       "      <td>32</td>\n",
       "      <td>1</td>\n",
       "      <td>73.0</td>\n",
       "      <td>125.0</td>\n",
       "      <td>76.0</td>\n",
       "      <td>80.0</td>\n",
       "      <td>187.0</td>\n",
       "      <td>21.0</td>\n",
       "      <td>25.0</td>\n",
       "      <td>35.0</td>\n",
       "      <td>15.9</td>\n",
       "      <td>0</td>\n",
       "      <td>0</td>\n",
       "      <td>0</td>\n",
       "      <td>0</td>\n",
       "      <td>2</td>\n",
       "      <td>3</td>\n",
       "      <td>2</td>\n",
       "    </tr>\n",
       "    <tr>\n",
       "      <th>2914</th>\n",
       "      <td>1</td>\n",
       "      <td>38</td>\n",
       "      <td>1</td>\n",
       "      <td>85.0</td>\n",
       "      <td>119.0</td>\n",
       "      <td>79.0</td>\n",
       "      <td>108.0</td>\n",
       "      <td>238.0</td>\n",
       "      <td>21.0</td>\n",
       "      <td>24.0</td>\n",
       "      <td>31.0</td>\n",
       "      <td>14.0</td>\n",
       "      <td>0</td>\n",
       "      <td>0</td>\n",
       "      <td>0</td>\n",
       "      <td>0</td>\n",
       "      <td>1</td>\n",
       "      <td>4</td>\n",
       "      <td>0</td>\n",
       "    </tr>\n",
       "  </tbody>\n",
       "</table>\n",
       "<p>16896 rows × 19 columns</p>\n",
       "</div>"
      ],
      "text/plain": [
       "       HY_YN  AGE gender  WAIST  BP_HIGH  BP_LWST   BLDS  TOT_CHOLE  SGOT_ASL  \\\n",
       "15537      0   66      0   78.0    113.0     69.0  192.0      223.0      23.0   \n",
       "309        1   46      1   94.0    110.0     80.0  102.0      209.0      17.0   \n",
       "20449      0   44      1   84.0    120.0     80.0   99.0      178.0      29.0   \n",
       "16077      0   25      1   88.0    120.0     80.0   82.0      235.0      32.0   \n",
       "11963      0   52      1   84.0    127.0     81.0   79.0      176.0      31.0   \n",
       "...      ...  ...    ...    ...      ...      ...    ...        ...       ...   \n",
       "10770      0   43      1   90.0    136.0     76.0   89.0      265.0      26.0   \n",
       "1273       1   44      0   74.0    109.0     67.0   90.0      187.0      28.0   \n",
       "11247      0   58      0   77.0    132.0     77.0   68.0      184.0      16.0   \n",
       "20609      0   32      1   73.0    125.0     76.0   80.0      187.0      21.0   \n",
       "2914       1   38      1   85.0    119.0     79.0  108.0      238.0      21.0   \n",
       "\n",
       "       SGPT_ALT  GAMMA_GTP   HMG F_APOP_YN F_HDISE_YN F_HPRT_YN F_DIABML_YN  \\\n",
       "15537      20.0       26.0  14.0         0          0         0           1   \n",
       "309        12.0       53.0  14.1         0          0         0           0   \n",
       "20449      28.0       36.0  14.0         0          0         0           0   \n",
       "16077      34.0       32.0  16.0         0          0         0           0   \n",
       "11963      29.0       48.0  15.8         0          0         0           0   \n",
       "...         ...        ...   ...       ...        ...       ...         ...   \n",
       "10770      34.0       71.0  16.4         1          1         1           1   \n",
       "1273       34.0       17.0  12.0         0          0         0           0   \n",
       "11247      11.0       20.0  12.9         0          0         0           0   \n",
       "20609      25.0       35.0  15.9         0          0         0           0   \n",
       "2914       24.0       31.0  14.0         0          0         0           0   \n",
       "\n",
       "      DSQTY SMK_TERM EXER_M  \n",
       "15537     0        0      2  \n",
       "309       0        0      1  \n",
       "20449     0        0      0  \n",
       "16077     3        2      0  \n",
       "11963     0        0      2  \n",
       "...     ...      ...    ...  \n",
       "10770     0        0      0  \n",
       "1273      0        0      0  \n",
       "11247     0        0      1  \n",
       "20609     2        3      2  \n",
       "2914      1        4      0  \n",
       "\n",
       "[16896 rows x 19 columns]"
      ]
     },
     "execution_count": 41,
     "metadata": {},
     "output_type": "execute_result"
    }
   ],
   "source": [
    "data.info()\n",
    "data.dropna(axis=0)"
   ]
  },
  {
   "cell_type": "code",
   "execution_count": 42,
   "metadata": {},
   "outputs": [],
   "source": [
    "num_feat = ['AGE','WAIST','BP_HIGH','BP_LWST','BLDS','TOT_CHOLE','SGOT_ASL','SGPT_ALT','GAMMA_GTP','HMG']\n",
    "nom_feat = ['gender', 'F_APOP_YN', 'F_HDISE_YN','F_HPRT_YN','F_DIABML_YN']\n",
    "ord_feat = ['DSQTY','SMK_TERM','EXER_M']"
   ]
  },
  {
   "cell_type": "code",
   "execution_count": 43,
   "metadata": {},
   "outputs": [],
   "source": [
    "X_train, y_train = data.drop(columns=['HY_YN'], axis=1, inplace=False), data['HY_YN'].values"
   ]
  },
  {
   "cell_type": "code",
   "execution_count": 44,
   "metadata": {
    "scrolled": true
   },
   "outputs": [],
   "source": [
    "from sklearn.preprocessing import OneHotEncoder, OrdinalEncoder"
   ]
  },
  {
   "cell_type": "code",
   "execution_count": 45,
   "metadata": {},
   "outputs": [],
   "source": [
    "ohe = OneHotEncoder(sparse=False)\n",
    "oe = OrdinalEncoder()\n",
    "\n",
    "ohe.fit(X_train[nom_feat].values)\n",
    "oe.fit(X_train[ord_feat].values)\n",
    "\n",
    "X_train_nom = ohe.transform(X_train[nom_feat].values)\n",
    "X_train_ord = oe.transform(X_train[ord_feat].values)"
   ]
  },
  {
   "cell_type": "markdown",
   "metadata": {},
   "source": [
    "#### Scale data\n",
    "* Feature scaling means to transform ranges of all **numerical** features to be similar with each other. <br> (it is enough to just one-hot-encode categorical features)\n",
    "* Standard scaling (standardization) is to make feature to have mean 0 and standard deviation 1.\n",
    "  - It is **TOTALLY different** from converting data distribution to Gaussian ditsribution!!!\n",
    "  - Except for models having assumption of Gaussian distributed data, such as Linear Discriminant analysis, Gaussian Mixture models, <br>\n",
    "  it is NOT needed to convert data distribution to be Gaussian.\n",
    "  - It is just shift the range of feature distribution\n",
    "* Feature scaling is especially important for algorithms:\n",
    "  - based on Euclidean distance like K-means clustering, k-NN (different scale distorts distance measure)\n",
    "  - based on gradient-based optimizations like logistic regression, neural networks (different scales distorts loss surface)\n",
    "  - regard scale of features with significance like PCA"
   ]
  },
  {
   "cell_type": "markdown",
   "metadata": {},
   "source": [
    "##### Scale numerical features\n",
    "- Scale numerical features to have mean 0 and standard deviation 1\n",
    "- Use `StandardScaler` provided by Scikit-Learn package\n",
    "- Select numerical feature columns and call `fit_trnasform()` method"
   ]
  },
  {
   "cell_type": "code",
   "execution_count": 46,
   "metadata": {},
   "outputs": [],
   "source": [
    "from sklearn.preprocessing import StandardScaler\n",
    "    \n",
    "scalar = StandardScaler()\n",
    "scalar.fit(X_train[num_feat].values)\n",
    "X_train_num = scalar.transform(X_train[num_feat].values)"
   ]
  },
  {
   "cell_type": "code",
   "execution_count": 47,
   "metadata": {},
   "outputs": [
    {
     "data": {
      "text/plain": [
       "(16945, 10)"
      ]
     },
     "execution_count": 47,
     "metadata": {},
     "output_type": "execute_result"
    }
   ],
   "source": [
    "X_train_num.shape"
   ]
  },
  {
   "cell_type": "markdown",
   "metadata": {},
   "source": [
    "##### Finish up data pre-processing\n",
    "- Now, we need to concatenate categorical (one-hot encoded) and numerical (standardized) features!\n",
    "- It can be easily done by `np.concatenate([*arrays], axis=1)` method"
   ]
  },
  {
   "cell_type": "code",
   "execution_count": 48,
   "metadata": {},
   "outputs": [
    {
     "data": {
      "text/plain": [
       "(16945, 23)"
      ]
     },
     "execution_count": 48,
     "metadata": {},
     "output_type": "execute_result"
    }
   ],
   "source": [
    "X_train = np.concatenate([X_train_num, X_train_ord, X_train_nom], axis=1)\n",
    "X_train.shape"
   ]
  },
  {
   "cell_type": "markdown",
   "metadata": {},
   "source": [
    "### Do the same thing for test_set"
   ]
  },
  {
   "cell_type": "code",
   "execution_count": 49,
   "metadata": {},
   "outputs": [],
   "source": [
    "test_data = test_set.copy()"
   ]
  },
  {
   "cell_type": "code",
   "execution_count": 50,
   "metadata": {},
   "outputs": [
    {
     "name": "stdout",
     "output_type": "stream",
     "text": [
      "<class 'pandas.core.frame.DataFrame'>\n",
      "Int64Index: 4237 entries, 18979 to 15597\n",
      "Data columns (total 22 columns):\n",
      " #   Column       Non-Null Count  Dtype  \n",
      "---  ------       --------------  -----  \n",
      " 0   HY_YN        4237 non-null   int64  \n",
      " 1   AGE          4237 non-null   int64  \n",
      " 2   gender       4237 non-null   object \n",
      " 3   WAIST        4233 non-null   float64\n",
      " 4   BP_HIGH      4236 non-null   float64\n",
      " 5   BP_LWST      4236 non-null   float64\n",
      " 6   BLDS         4236 non-null   float64\n",
      " 7   TOT_CHOLE    4237 non-null   float64\n",
      " 8   SGOT_ASL     4236 non-null   float64\n",
      " 9   SGPT_ALT     4237 non-null   float64\n",
      " 10  GAMMA_GTP    4237 non-null   float64\n",
      " 11  HMG          4237 non-null   float64\n",
      " 12  H_APOP_YN    4237 non-null   object \n",
      " 13  H_HDISE_YN   4237 non-null   object \n",
      " 14  H_DIABML_YN  4237 non-null   object \n",
      " 15  F_APOP_YN    4237 non-null   object \n",
      " 16  F_HDISE_YN   4237 non-null   object \n",
      " 17  F_HPRT_YN    4237 non-null   object \n",
      " 18  F_DIABML_YN  4237 non-null   object \n",
      " 19  DSQTY        4237 non-null   object \n",
      " 20  SMK_TERM     4237 non-null   object \n",
      " 21  EXER_M       4237 non-null   object \n",
      "dtypes: float64(9), int64(2), object(11)\n",
      "memory usage: 761.3+ KB\n"
     ]
    },
    {
     "data": {
      "text/html": [
       "<div>\n",
       "<style scoped>\n",
       "    .dataframe tbody tr th:only-of-type {\n",
       "        vertical-align: middle;\n",
       "    }\n",
       "\n",
       "    .dataframe tbody tr th {\n",
       "        vertical-align: top;\n",
       "    }\n",
       "\n",
       "    .dataframe thead th {\n",
       "        text-align: right;\n",
       "    }\n",
       "</style>\n",
       "<table border=\"1\" class=\"dataframe\">\n",
       "  <thead>\n",
       "    <tr style=\"text-align: right;\">\n",
       "      <th></th>\n",
       "      <th>HY_YN</th>\n",
       "      <th>AGE</th>\n",
       "      <th>gender</th>\n",
       "      <th>WAIST</th>\n",
       "      <th>BP_HIGH</th>\n",
       "      <th>BP_LWST</th>\n",
       "      <th>BLDS</th>\n",
       "      <th>TOT_CHOLE</th>\n",
       "      <th>SGOT_ASL</th>\n",
       "      <th>SGPT_ALT</th>\n",
       "      <th>...</th>\n",
       "      <th>H_APOP_YN</th>\n",
       "      <th>H_HDISE_YN</th>\n",
       "      <th>H_DIABML_YN</th>\n",
       "      <th>F_APOP_YN</th>\n",
       "      <th>F_HDISE_YN</th>\n",
       "      <th>F_HPRT_YN</th>\n",
       "      <th>F_DIABML_YN</th>\n",
       "      <th>DSQTY</th>\n",
       "      <th>SMK_TERM</th>\n",
       "      <th>EXER_M</th>\n",
       "    </tr>\n",
       "  </thead>\n",
       "  <tbody>\n",
       "    <tr>\n",
       "      <th>18979</th>\n",
       "      <td>0</td>\n",
       "      <td>57</td>\n",
       "      <td>1</td>\n",
       "      <td>73.0</td>\n",
       "      <td>110.0</td>\n",
       "      <td>70.0</td>\n",
       "      <td>99.0</td>\n",
       "      <td>167.0</td>\n",
       "      <td>18.0</td>\n",
       "      <td>25.0</td>\n",
       "      <td>...</td>\n",
       "      <td>0</td>\n",
       "      <td>0</td>\n",
       "      <td>0</td>\n",
       "      <td>0</td>\n",
       "      <td>0</td>\n",
       "      <td>0</td>\n",
       "      <td>0</td>\n",
       "      <td>2</td>\n",
       "      <td>3</td>\n",
       "      <td>1</td>\n",
       "    </tr>\n",
       "    <tr>\n",
       "      <th>705</th>\n",
       "      <td>1</td>\n",
       "      <td>68</td>\n",
       "      <td>0</td>\n",
       "      <td>89.0</td>\n",
       "      <td>110.0</td>\n",
       "      <td>70.0</td>\n",
       "      <td>91.0</td>\n",
       "      <td>201.0</td>\n",
       "      <td>24.0</td>\n",
       "      <td>19.0</td>\n",
       "      <td>...</td>\n",
       "      <td>0</td>\n",
       "      <td>0</td>\n",
       "      <td>0</td>\n",
       "      <td>0</td>\n",
       "      <td>0</td>\n",
       "      <td>0</td>\n",
       "      <td>0</td>\n",
       "      <td>0</td>\n",
       "      <td>0</td>\n",
       "      <td>4</td>\n",
       "    </tr>\n",
       "    <tr>\n",
       "      <th>16650</th>\n",
       "      <td>0</td>\n",
       "      <td>52</td>\n",
       "      <td>0</td>\n",
       "      <td>62.0</td>\n",
       "      <td>96.0</td>\n",
       "      <td>60.0</td>\n",
       "      <td>77.0</td>\n",
       "      <td>177.0</td>\n",
       "      <td>41.0</td>\n",
       "      <td>39.0</td>\n",
       "      <td>...</td>\n",
       "      <td>0</td>\n",
       "      <td>0</td>\n",
       "      <td>0</td>\n",
       "      <td>0</td>\n",
       "      <td>1</td>\n",
       "      <td>0</td>\n",
       "      <td>0</td>\n",
       "      <td>0</td>\n",
       "      <td>0</td>\n",
       "      <td>0</td>\n",
       "    </tr>\n",
       "    <tr>\n",
       "      <th>17052</th>\n",
       "      <td>0</td>\n",
       "      <td>48</td>\n",
       "      <td>1</td>\n",
       "      <td>84.0</td>\n",
       "      <td>107.0</td>\n",
       "      <td>65.0</td>\n",
       "      <td>95.0</td>\n",
       "      <td>188.0</td>\n",
       "      <td>32.0</td>\n",
       "      <td>27.0</td>\n",
       "      <td>...</td>\n",
       "      <td>0</td>\n",
       "      <td>0</td>\n",
       "      <td>0</td>\n",
       "      <td>0</td>\n",
       "      <td>0</td>\n",
       "      <td>0</td>\n",
       "      <td>0</td>\n",
       "      <td>0</td>\n",
       "      <td>4</td>\n",
       "      <td>2</td>\n",
       "    </tr>\n",
       "    <tr>\n",
       "      <th>13092</th>\n",
       "      <td>0</td>\n",
       "      <td>57</td>\n",
       "      <td>1</td>\n",
       "      <td>70.0</td>\n",
       "      <td>110.0</td>\n",
       "      <td>79.0</td>\n",
       "      <td>79.0</td>\n",
       "      <td>210.0</td>\n",
       "      <td>22.0</td>\n",
       "      <td>14.0</td>\n",
       "      <td>...</td>\n",
       "      <td>0</td>\n",
       "      <td>0</td>\n",
       "      <td>0</td>\n",
       "      <td>0</td>\n",
       "      <td>0</td>\n",
       "      <td>0</td>\n",
       "      <td>0</td>\n",
       "      <td>2</td>\n",
       "      <td>5</td>\n",
       "      <td>0</td>\n",
       "    </tr>\n",
       "    <tr>\n",
       "      <th>...</th>\n",
       "      <td>...</td>\n",
       "      <td>...</td>\n",
       "      <td>...</td>\n",
       "      <td>...</td>\n",
       "      <td>...</td>\n",
       "      <td>...</td>\n",
       "      <td>...</td>\n",
       "      <td>...</td>\n",
       "      <td>...</td>\n",
       "      <td>...</td>\n",
       "      <td>...</td>\n",
       "      <td>...</td>\n",
       "      <td>...</td>\n",
       "      <td>...</td>\n",
       "      <td>...</td>\n",
       "      <td>...</td>\n",
       "      <td>...</td>\n",
       "      <td>...</td>\n",
       "      <td>...</td>\n",
       "      <td>...</td>\n",
       "      <td>...</td>\n",
       "    </tr>\n",
       "    <tr>\n",
       "      <th>19855</th>\n",
       "      <td>0</td>\n",
       "      <td>45</td>\n",
       "      <td>0</td>\n",
       "      <td>74.0</td>\n",
       "      <td>102.0</td>\n",
       "      <td>66.0</td>\n",
       "      <td>93.0</td>\n",
       "      <td>185.0</td>\n",
       "      <td>21.0</td>\n",
       "      <td>16.0</td>\n",
       "      <td>...</td>\n",
       "      <td>0</td>\n",
       "      <td>0</td>\n",
       "      <td>0</td>\n",
       "      <td>0</td>\n",
       "      <td>0</td>\n",
       "      <td>0</td>\n",
       "      <td>0</td>\n",
       "      <td>0</td>\n",
       "      <td>0</td>\n",
       "      <td>1</td>\n",
       "    </tr>\n",
       "    <tr>\n",
       "      <th>17062</th>\n",
       "      <td>0</td>\n",
       "      <td>64</td>\n",
       "      <td>0</td>\n",
       "      <td>91.0</td>\n",
       "      <td>120.0</td>\n",
       "      <td>80.0</td>\n",
       "      <td>102.0</td>\n",
       "      <td>213.0</td>\n",
       "      <td>14.0</td>\n",
       "      <td>20.0</td>\n",
       "      <td>...</td>\n",
       "      <td>0</td>\n",
       "      <td>0</td>\n",
       "      <td>0</td>\n",
       "      <td>0</td>\n",
       "      <td>0</td>\n",
       "      <td>0</td>\n",
       "      <td>0</td>\n",
       "      <td>0</td>\n",
       "      <td>0</td>\n",
       "      <td>0</td>\n",
       "    </tr>\n",
       "    <tr>\n",
       "      <th>12371</th>\n",
       "      <td>0</td>\n",
       "      <td>46</td>\n",
       "      <td>0</td>\n",
       "      <td>73.0</td>\n",
       "      <td>120.0</td>\n",
       "      <td>76.0</td>\n",
       "      <td>87.0</td>\n",
       "      <td>193.0</td>\n",
       "      <td>21.0</td>\n",
       "      <td>9.0</td>\n",
       "      <td>...</td>\n",
       "      <td>0</td>\n",
       "      <td>0</td>\n",
       "      <td>0</td>\n",
       "      <td>0</td>\n",
       "      <td>0</td>\n",
       "      <td>0</td>\n",
       "      <td>0</td>\n",
       "      <td>0</td>\n",
       "      <td>0</td>\n",
       "      <td>2</td>\n",
       "    </tr>\n",
       "    <tr>\n",
       "      <th>15976</th>\n",
       "      <td>0</td>\n",
       "      <td>51</td>\n",
       "      <td>1</td>\n",
       "      <td>85.0</td>\n",
       "      <td>115.0</td>\n",
       "      <td>75.0</td>\n",
       "      <td>122.0</td>\n",
       "      <td>185.0</td>\n",
       "      <td>20.0</td>\n",
       "      <td>34.0</td>\n",
       "      <td>...</td>\n",
       "      <td>0</td>\n",
       "      <td>0</td>\n",
       "      <td>0</td>\n",
       "      <td>0</td>\n",
       "      <td>0</td>\n",
       "      <td>0</td>\n",
       "      <td>0</td>\n",
       "      <td>0</td>\n",
       "      <td>0</td>\n",
       "      <td>2</td>\n",
       "    </tr>\n",
       "    <tr>\n",
       "      <th>15597</th>\n",
       "      <td>0</td>\n",
       "      <td>28</td>\n",
       "      <td>1</td>\n",
       "      <td>73.0</td>\n",
       "      <td>120.0</td>\n",
       "      <td>70.0</td>\n",
       "      <td>46.0</td>\n",
       "      <td>170.0</td>\n",
       "      <td>21.0</td>\n",
       "      <td>21.0</td>\n",
       "      <td>...</td>\n",
       "      <td>0</td>\n",
       "      <td>0</td>\n",
       "      <td>0</td>\n",
       "      <td>0</td>\n",
       "      <td>0</td>\n",
       "      <td>1</td>\n",
       "      <td>1</td>\n",
       "      <td>0</td>\n",
       "      <td>0</td>\n",
       "      <td>0</td>\n",
       "    </tr>\n",
       "  </tbody>\n",
       "</table>\n",
       "<p>4230 rows × 22 columns</p>\n",
       "</div>"
      ],
      "text/plain": [
       "       HY_YN  AGE gender  WAIST  BP_HIGH  BP_LWST   BLDS  TOT_CHOLE  SGOT_ASL  \\\n",
       "18979      0   57      1   73.0    110.0     70.0   99.0      167.0      18.0   \n",
       "705        1   68      0   89.0    110.0     70.0   91.0      201.0      24.0   \n",
       "16650      0   52      0   62.0     96.0     60.0   77.0      177.0      41.0   \n",
       "17052      0   48      1   84.0    107.0     65.0   95.0      188.0      32.0   \n",
       "13092      0   57      1   70.0    110.0     79.0   79.0      210.0      22.0   \n",
       "...      ...  ...    ...    ...      ...      ...    ...        ...       ...   \n",
       "19855      0   45      0   74.0    102.0     66.0   93.0      185.0      21.0   \n",
       "17062      0   64      0   91.0    120.0     80.0  102.0      213.0      14.0   \n",
       "12371      0   46      0   73.0    120.0     76.0   87.0      193.0      21.0   \n",
       "15976      0   51      1   85.0    115.0     75.0  122.0      185.0      20.0   \n",
       "15597      0   28      1   73.0    120.0     70.0   46.0      170.0      21.0   \n",
       "\n",
       "       SGPT_ALT  ...  H_APOP_YN  H_HDISE_YN H_DIABML_YN F_APOP_YN F_HDISE_YN  \\\n",
       "18979      25.0  ...          0           0           0         0          0   \n",
       "705        19.0  ...          0           0           0         0          0   \n",
       "16650      39.0  ...          0           0           0         0          1   \n",
       "17052      27.0  ...          0           0           0         0          0   \n",
       "13092      14.0  ...          0           0           0         0          0   \n",
       "...         ...  ...        ...         ...         ...       ...        ...   \n",
       "19855      16.0  ...          0           0           0         0          0   \n",
       "17062      20.0  ...          0           0           0         0          0   \n",
       "12371       9.0  ...          0           0           0         0          0   \n",
       "15976      34.0  ...          0           0           0         0          0   \n",
       "15597      21.0  ...          0           0           0         0          0   \n",
       "\n",
       "      F_HPRT_YN F_DIABML_YN DSQTY SMK_TERM EXER_M  \n",
       "18979         0           0     2        3      1  \n",
       "705           0           0     0        0      4  \n",
       "16650         0           0     0        0      0  \n",
       "17052         0           0     0        4      2  \n",
       "13092         0           0     2        5      0  \n",
       "...         ...         ...   ...      ...    ...  \n",
       "19855         0           0     0        0      1  \n",
       "17062         0           0     0        0      0  \n",
       "12371         0           0     0        0      2  \n",
       "15976         0           0     0        0      2  \n",
       "15597         1           1     0        0      0  \n",
       "\n",
       "[4230 rows x 22 columns]"
      ]
     },
     "execution_count": 50,
     "metadata": {},
     "output_type": "execute_result"
    }
   ],
   "source": [
    "test_data.info()\n",
    "test_data.dropna(axis=0)"
   ]
  },
  {
   "cell_type": "code",
   "execution_count": 51,
   "metadata": {},
   "outputs": [],
   "source": [
    "num_feat = ['AGE','WAIST','BP_HIGH','BP_LWST','BLDS','TOT_CHOLE','SGOT_ASL','SGPT_ALT','GAMMA_GTP','HMG']\n",
    "nom_feat = ['gender', 'F_APOP_YN', 'F_HDISE_YN','F_HPRT_YN','F_DIABML_YN']\n",
    "ord_feat = ['DSQTY','SMK_TERM','EXER_M']"
   ]
  },
  {
   "cell_type": "code",
   "execution_count": 52,
   "metadata": {},
   "outputs": [],
   "source": [
    "X_test, y_test = data.drop(columns=['HY_YN'], axis=1, inplace=False), data['HY_YN'].values"
   ]
  },
  {
   "cell_type": "code",
   "execution_count": 53,
   "metadata": {},
   "outputs": [],
   "source": [
    "ohe = OneHotEncoder(sparse=False)\n",
    "oe = OrdinalEncoder()\n",
    "\n",
    "ohe.fit(X_test[nom_feat].values)\n",
    "oe.fit(X_test[ord_feat].values)\n",
    "\n",
    "X_test_nom = ohe.transform(X_test[nom_feat].values)\n",
    "X_test_ord = oe.transform(X_test[ord_feat].values)"
   ]
  },
  {
   "cell_type": "markdown",
   "metadata": {},
   "source": [
    "### Logistic Regression Approach ###"
   ]
  },
  {
   "cell_type": "code",
   "execution_count": 62,
   "metadata": {},
   "outputs": [
    {
     "name": "stdout",
     "output_type": "stream",
     "text": [
      "<class 'pandas.core.frame.DataFrame'>\n",
      "Int64Index: 21182 entries, 0 to 21612\n",
      "Data columns (total 22 columns):\n",
      " #   Column       Non-Null Count  Dtype\n",
      "---  ------       --------------  -----\n",
      " 0   HY_YN        21182 non-null  int64\n",
      " 1   AGE          21182 non-null  int64\n",
      " 2   gender       21182 non-null  int64\n",
      " 3   WAIST        21182 non-null  int32\n",
      " 4   BP_HIGH      21182 non-null  int32\n",
      " 5   BP_LWST      21182 non-null  int32\n",
      " 6   BLDS         21182 non-null  int32\n",
      " 7   TOT_CHOLE    21182 non-null  int32\n",
      " 8   SGOT_ASL     21182 non-null  int32\n",
      " 9   SGPT_ALT     21182 non-null  int32\n",
      " 10  GAMMA_GTP    21182 non-null  int32\n",
      " 11  HMG          21182 non-null  int32\n",
      " 12  H_APOP_YN    21182 non-null  int64\n",
      " 13  H_HDISE_YN   21182 non-null  int64\n",
      " 14  H_DIABML_YN  21182 non-null  int64\n",
      " 15  F_APOP_YN    21182 non-null  int64\n",
      " 16  F_HDISE_YN   21182 non-null  int64\n",
      " 17  F_HPRT_YN    21182 non-null  int64\n",
      " 18  F_DIABML_YN  21182 non-null  int64\n",
      " 19  DSQTY        21182 non-null  int64\n",
      " 20  SMK_TERM     21182 non-null  int64\n",
      " 21  EXER_M       21182 non-null  int64\n",
      "dtypes: int32(9), int64(13)\n",
      "memory usage: 3.0 MB\n"
     ]
    }
   ],
   "source": [
    "# Logistic Regression Approach\n",
    "feat = ['WAIST','BP_HIGH','BP_LWST','BLDS','TOT_CHOLE','SGOT_ASL','SGPT_ALT','GAMMA_GTP','HMG']\n",
    "df = df.fillna(0)\n",
    "df[feat] = df[feat].astype('int32')\n",
    "feature_df = df\n",
    "df.info()\n",
    " \n",
    "X = np.asarray(feature_df)\n",
    "y = np.asarray(df['HY_YN'])\n",
    "#df -> train and test data\n",
    "# train(x,y) x is 2d array, y is 1d araay\n"
   ]
  },
  {
   "cell_type": "code",
   "execution_count": 55,
   "metadata": {},
   "outputs": [],
   "source": [
    "X_train, X_test, y_train, y_test = train_test_split(X, y, test_size = 0.2, random_state = 200530, stratify = y)\n",
    "\n",
    "num_feat = ['AGE','WAIST','BP_HIGH','BP_LWST','BLDS','TOT_CHOLE','SGOT_ASL','SGPT_ALT','GAMMA_GTP','HMG']\n",
    "nom_feat = ['gender', 'F_APOP_YN', 'F_HDISE_YN','F_HPRT_YN','F_DIABML_YN']\n",
    "ord_feat = ['DSQTY','SMK_TERM','EXER_M']\n",
    "\n",
    "\n",
    "X_train, y_train = data.drop(columns=['HY_YN'], axis=1, inplace=False), data['HY_YN'].values\n",
    "ohe = OneHotEncoder(sparse=False)\n",
    "oe = OrdinalEncoder()\n",
    "\n",
    "ohe.fit(X_train[nom_feat].values)\n",
    "oe.fit(X_train[ord_feat].values)\n",
    "\n",
    "X_train_nom = ohe.transform(X_train[nom_feat].values)\n",
    "X_train_ord = oe.transform(X_train[ord_feat].values)\n",
    "\n",
    "X_train, y_train = data.drop(columns=['HY_YN'], axis=1, inplace=False), data['HY_YN'].values\n",
    "\n",
    "from sklearn.preprocessing import StandardScaler\n",
    "\n",
    "scalar = StandardScaler()\n",
    "scalar.fit(X_train[num_feat].values)\n",
    "X_train_num = scalar.transform(X_train[num_feat].values)\n",
    "\n",
    "X_train = np.concatenate([X_train_num, X_train_ord, X_train_nom], axis=1)"
   ]
  },
  {
   "cell_type": "code",
   "execution_count": 56,
   "metadata": {},
   "outputs": [],
   "source": [
    "ohe = OneHotEncoder(sparse=False)\n",
    "oe = OrdinalEncoder()\n",
    "\n",
    "num_feat = ['AGE','WAIST','BP_HIGH','BP_LWST','BLDS','TOT_CHOLE','SGOT_ASL','SGPT_ALT','GAMMA_GTP','HMG']\n",
    "nom_feat = ['gender', 'F_APOP_YN', 'F_HDISE_YN','F_HPRT_YN','F_DIABML_YN']\n",
    "ord_feat = ['DSQTY','SMK_TERM','EXER_M']\n",
    "\n",
    "X_test, y_test = data.drop(columns=['HY_YN'], axis=1, inplace=False), data['HY_YN'].values\n",
    "ohe.fit(X_test[nom_feat].values)\n",
    "oe.fit(X_test[ord_feat].values)\n",
    "\n",
    "X_test_nom = ohe.transform(X_test[nom_feat].values)\n",
    "X_test_ord = oe.transform(X_test[ord_feat].values)\n",
    "\n",
    "scalar = StandardScaler()\n",
    "scalar.fit(X_test[num_feat].values)\n",
    "X_test_num = scalar.transform(X_test[num_feat].values)\n",
    "\n",
    "X_test = np.concatenate([X_test_num, X_test_ord, X_test_nom], axis=1)\n"
   ]
  },
  {
   "cell_type": "code",
   "execution_count": 72,
   "metadata": {},
   "outputs": [
    {
     "name": "stdout",
     "output_type": "stream",
     "text": [
      "Accuracy is:  0.9801746518763276\n"
     ]
    },
    {
     "name": "stderr",
     "output_type": "stream",
     "text": [
      "C:\\ProgramData\\Anaconda3\\envs\\daheeta_mining\\lib\\site-packages\\sklearn\\linear_model\\_logistic.py:940: ConvergenceWarning: lbfgs failed to converge (status=1):\n",
      "STOP: TOTAL NO. of ITERATIONS REACHED LIMIT.\n",
      "\n",
      "Increase the number of iterations (max_iter) or scale the data as shown in:\n",
      "    https://scikit-learn.org/stable/modules/preprocessing.html\n",
      "Please also refer to the documentation for alternative solver options:\n",
      "    https://scikit-learn.org/stable/modules/linear_model.html#logistic-regression\n",
      "  extra_warning_msg=_LOGISTIC_SOLVER_CONVERGENCE_MSG)\n"
     ]
    }
   ],
   "source": [
    "from sklearn import metrics\n",
    "from sklearn.linear_model import LogisticRegression\n",
    "\n",
    "from sklearn.linear_model import LogisticRegression\n",
    "#instantiate the model\n",
    "logReg = LogisticRegression()\n",
    "#fit the model\n",
    "logReg.fit(X_train, y_train)\n",
    "y_predict = logReg.predict(X_test)\n",
    "\n",
    "print(\"Accuracy is: \",metrics.accuracy_score(y_test, y_predict))\n"
   ]
  },
  {
   "cell_type": "code",
   "execution_count": 73,
   "metadata": {},
   "outputs": [
    {
     "name": "stderr",
     "output_type": "stream",
     "text": [
      "C:\\ProgramData\\Anaconda3\\envs\\daheeta_mining\\lib\\site-packages\\sklearn\\linear_model\\_logistic.py:940: ConvergenceWarning: lbfgs failed to converge (status=1):\n",
      "STOP: TOTAL NO. of ITERATIONS REACHED LIMIT.\n",
      "\n",
      "Increase the number of iterations (max_iter) or scale the data as shown in:\n",
      "    https://scikit-learn.org/stable/modules/preprocessing.html\n",
      "Please also refer to the documentation for alternative solver options:\n",
      "    https://scikit-learn.org/stable/modules/linear_model.html#logistic-regression\n",
      "  extra_warning_msg=_LOGISTIC_SOLVER_CONVERGENCE_MSG)\n"
     ]
    },
    {
     "data": {
      "text/plain": [
       "LogisticRegression(C=1.0, class_weight='balanced', dual=False,\n",
       "                   fit_intercept=True, intercept_scaling=1, l1_ratio=None,\n",
       "                   max_iter=100, multi_class='auto', n_jobs=None, penalty='l2',\n",
       "                   random_state=None, solver='lbfgs', tol=0.0001, verbose=0,\n",
       "                   warm_start=False)"
      ]
     },
     "execution_count": 73,
     "metadata": {},
     "output_type": "execute_result"
    }
   ],
   "source": [
    "log_reg_cw = LogisticRegression(class_weight='balanced')\n",
    "log_reg_cw.fit(X_train, y_train)"
   ]
  },
  {
   "cell_type": "code",
   "execution_count": 92,
   "metadata": {},
   "outputs": [
    {
     "name": "stderr",
     "output_type": "stream",
     "text": [
      "C:\\ProgramData\\Anaconda3\\envs\\daheeta_mining\\lib\\site-packages\\sklearn\\linear_model\\_logistic.py:940: ConvergenceWarning: lbfgs failed to converge (status=1):\n",
      "STOP: TOTAL NO. of ITERATIONS REACHED LIMIT.\n",
      "\n",
      "Increase the number of iterations (max_iter) or scale the data as shown in:\n",
      "    https://scikit-learn.org/stable/modules/preprocessing.html\n",
      "Please also refer to the documentation for alternative solver options:\n",
      "    https://scikit-learn.org/stable/modules/linear_model.html#logistic-regression\n",
      "  extra_warning_msg=_LOGISTIC_SOLVER_CONVERGENCE_MSG)\n",
      "C:\\ProgramData\\Anaconda3\\envs\\daheeta_mining\\lib\\site-packages\\sklearn\\linear_model\\_logistic.py:940: ConvergenceWarning: lbfgs failed to converge (status=1):\n",
      "STOP: TOTAL NO. of ITERATIONS REACHED LIMIT.\n",
      "\n",
      "Increase the number of iterations (max_iter) or scale the data as shown in:\n",
      "    https://scikit-learn.org/stable/modules/preprocessing.html\n",
      "Please also refer to the documentation for alternative solver options:\n",
      "    https://scikit-learn.org/stable/modules/linear_model.html#logistic-regression\n",
      "  extra_warning_msg=_LOGISTIC_SOLVER_CONVERGENCE_MSG)\n",
      "C:\\ProgramData\\Anaconda3\\envs\\daheeta_mining\\lib\\site-packages\\sklearn\\linear_model\\_logistic.py:940: ConvergenceWarning: lbfgs failed to converge (status=1):\n",
      "STOP: TOTAL NO. of ITERATIONS REACHED LIMIT.\n",
      "\n",
      "Increase the number of iterations (max_iter) or scale the data as shown in:\n",
      "    https://scikit-learn.org/stable/modules/preprocessing.html\n",
      "Please also refer to the documentation for alternative solver options:\n",
      "    https://scikit-learn.org/stable/modules/linear_model.html#logistic-regression\n",
      "  extra_warning_msg=_LOGISTIC_SOLVER_CONVERGENCE_MSG)\n",
      "C:\\ProgramData\\Anaconda3\\envs\\daheeta_mining\\lib\\site-packages\\sklearn\\linear_model\\_logistic.py:940: ConvergenceWarning: lbfgs failed to converge (status=1):\n",
      "STOP: TOTAL NO. of ITERATIONS REACHED LIMIT.\n",
      "\n",
      "Increase the number of iterations (max_iter) or scale the data as shown in:\n",
      "    https://scikit-learn.org/stable/modules/preprocessing.html\n",
      "Please also refer to the documentation for alternative solver options:\n",
      "    https://scikit-learn.org/stable/modules/linear_model.html#logistic-regression\n",
      "  extra_warning_msg=_LOGISTIC_SOLVER_CONVERGENCE_MSG)\n",
      "C:\\ProgramData\\Anaconda3\\envs\\daheeta_mining\\lib\\site-packages\\sklearn\\linear_model\\_logistic.py:940: ConvergenceWarning: lbfgs failed to converge (status=1):\n",
      "STOP: TOTAL NO. of ITERATIONS REACHED LIMIT.\n",
      "\n",
      "Increase the number of iterations (max_iter) or scale the data as shown in:\n",
      "    https://scikit-learn.org/stable/modules/preprocessing.html\n",
      "Please also refer to the documentation for alternative solver options:\n",
      "    https://scikit-learn.org/stable/modules/linear_model.html#logistic-regression\n",
      "  extra_warning_msg=_LOGISTIC_SOLVER_CONVERGENCE_MSG)\n",
      "C:\\ProgramData\\Anaconda3\\envs\\daheeta_mining\\lib\\site-packages\\sklearn\\linear_model\\_logistic.py:940: ConvergenceWarning: lbfgs failed to converge (status=1):\n",
      "STOP: TOTAL NO. of ITERATIONS REACHED LIMIT.\n",
      "\n",
      "Increase the number of iterations (max_iter) or scale the data as shown in:\n",
      "    https://scikit-learn.org/stable/modules/preprocessing.html\n",
      "Please also refer to the documentation for alternative solver options:\n",
      "    https://scikit-learn.org/stable/modules/linear_model.html#logistic-regression\n",
      "  extra_warning_msg=_LOGISTIC_SOLVER_CONVERGENCE_MSG)\n",
      "C:\\ProgramData\\Anaconda3\\envs\\daheeta_mining\\lib\\site-packages\\sklearn\\linear_model\\_logistic.py:940: ConvergenceWarning: lbfgs failed to converge (status=1):\n",
      "STOP: TOTAL NO. of ITERATIONS REACHED LIMIT.\n",
      "\n",
      "Increase the number of iterations (max_iter) or scale the data as shown in:\n",
      "    https://scikit-learn.org/stable/modules/preprocessing.html\n",
      "Please also refer to the documentation for alternative solver options:\n",
      "    https://scikit-learn.org/stable/modules/linear_model.html#logistic-regression\n",
      "  extra_warning_msg=_LOGISTIC_SOLVER_CONVERGENCE_MSG)\n",
      "C:\\ProgramData\\Anaconda3\\envs\\daheeta_mining\\lib\\site-packages\\sklearn\\linear_model\\_logistic.py:940: ConvergenceWarning: lbfgs failed to converge (status=1):\n",
      "STOP: TOTAL NO. of ITERATIONS REACHED LIMIT.\n",
      "\n",
      "Increase the number of iterations (max_iter) or scale the data as shown in:\n",
      "    https://scikit-learn.org/stable/modules/preprocessing.html\n",
      "Please also refer to the documentation for alternative solver options:\n",
      "    https://scikit-learn.org/stable/modules/linear_model.html#logistic-regression\n",
      "  extra_warning_msg=_LOGISTIC_SOLVER_CONVERGENCE_MSG)\n",
      "C:\\ProgramData\\Anaconda3\\envs\\daheeta_mining\\lib\\site-packages\\sklearn\\linear_model\\_logistic.py:940: ConvergenceWarning: lbfgs failed to converge (status=1):\n",
      "STOP: TOTAL NO. of ITERATIONS REACHED LIMIT.\n",
      "\n",
      "Increase the number of iterations (max_iter) or scale the data as shown in:\n",
      "    https://scikit-learn.org/stable/modules/preprocessing.html\n",
      "Please also refer to the documentation for alternative solver options:\n",
      "    https://scikit-learn.org/stable/modules/linear_model.html#logistic-regression\n",
      "  extra_warning_msg=_LOGISTIC_SOLVER_CONVERGENCE_MSG)\n",
      "C:\\ProgramData\\Anaconda3\\envs\\daheeta_mining\\lib\\site-packages\\sklearn\\linear_model\\_logistic.py:940: ConvergenceWarning: lbfgs failed to converge (status=1):\n",
      "STOP: TOTAL NO. of ITERATIONS REACHED LIMIT.\n",
      "\n",
      "Increase the number of iterations (max_iter) or scale the data as shown in:\n",
      "    https://scikit-learn.org/stable/modules/preprocessing.html\n",
      "Please also refer to the documentation for alternative solver options:\n",
      "    https://scikit-learn.org/stable/modules/linear_model.html#logistic-regression\n",
      "  extra_warning_msg=_LOGISTIC_SOLVER_CONVERGENCE_MSG)\n"
     ]
    },
    {
     "data": {
      "text/plain": [
       "array([0.99999813, 0.99823808, 0.99997007, 0.99976059, 0.99942766,\n",
       "       0.998082  , 0.97817267, 0.99999625, 0.99995313, 0.98482474])"
      ]
     },
     "execution_count": 92,
     "metadata": {},
     "output_type": "execute_result"
    }
   ],
   "source": [
    "from sklearn.model_selection import cross_val_score\n",
    "\n",
    "scores = cross_val_score(LogisticRegression(), X_train, y_train, scoring='roc_auc', cv=10)\n",
    "scores"
   ]
  },
  {
   "cell_type": "code",
   "execution_count": 93,
   "metadata": {},
   "outputs": [
    {
     "data": {
      "text/plain": [
       "dict_keys(['explained_variance', 'r2', 'max_error', 'neg_median_absolute_error', 'neg_mean_absolute_error', 'neg_mean_squared_error', 'neg_mean_squared_log_error', 'neg_root_mean_squared_error', 'neg_mean_poisson_deviance', 'neg_mean_gamma_deviance', 'accuracy', 'roc_auc', 'roc_auc_ovr', 'roc_auc_ovo', 'roc_auc_ovr_weighted', 'roc_auc_ovo_weighted', 'balanced_accuracy', 'average_precision', 'neg_log_loss', 'neg_brier_score', 'adjusted_rand_score', 'homogeneity_score', 'completeness_score', 'v_measure_score', 'mutual_info_score', 'adjusted_mutual_info_score', 'normalized_mutual_info_score', 'fowlkes_mallows_score', 'precision', 'precision_macro', 'precision_micro', 'precision_samples', 'precision_weighted', 'recall', 'recall_macro', 'recall_micro', 'recall_samples', 'recall_weighted', 'f1', 'f1_macro', 'f1_micro', 'f1_samples', 'f1_weighted', 'jaccard', 'jaccard_macro', 'jaccard_micro', 'jaccard_samples', 'jaccard_weighted'])"
      ]
     },
     "execution_count": 93,
     "metadata": {},
     "output_type": "execute_result"
    }
   ],
   "source": [
    "import sklearn\n",
    "sklearn.metrics.SCORERS.keys()"
   ]
  },
  {
   "cell_type": "code",
   "execution_count": 94,
   "metadata": {},
   "outputs": [
    {
     "data": {
      "text/plain": [
       "0.9991737975804073"
      ]
     },
     "execution_count": 94,
     "metadata": {},
     "output_type": "execute_result"
    }
   ],
   "source": [
    "log_reg_cw.score(X_train, y_train)"
   ]
  },
  {
   "cell_type": "code",
   "execution_count": 95,
   "metadata": {},
   "outputs": [
    {
     "name": "stdout",
     "output_type": "stream",
     "text": [
      "Scores: [0.99999813 0.99823808 0.99997007 0.99976059 0.99942766 0.998082\n",
      " 0.97817267 0.99999625 0.99995313 0.98482474],\n",
      "Mean: 0.9958,\n",
      "Std: 0.0074\n"
     ]
    }
   ],
   "source": [
    "print(f'Scores: {scores},\\nMean: {np.mean(scores):.4f},\\nStd: {np.std(scores):.4f}')"
   ]
  },
  {
   "cell_type": "code",
   "execution_count": 96,
   "metadata": {},
   "outputs": [
    {
     "name": "stdout",
     "output_type": "stream",
     "text": [
      "make_scorer(precision_score, average=binary)\n",
      "0.9598470363288719\n",
      "0.9598470363288719\n",
      "0.9598470363288719\n"
     ]
    }
   ],
   "source": [
    "from sklearn.metrics import confusion_matrix, plot_confusion_matrix, classification_report, precision_recall_fscore_support,\\\n",
    "roc_auc_score, accuracy_score, precision_score, recall_score, f1_score\n",
    "\n",
    "print(sklearn.metrics.SCORERS['precision'])\n",
    "\n",
    "print(metrics.precision_score(y_test, y_predict))\n",
    "print(metrics.recall_score(y_test, y_predict))\n",
    "print(metrics.f1_score(y_test, y_predict))"
   ]
  },
  {
   "cell_type": "markdown",
   "metadata": {},
   "source": [
    "### KNN Approach"
   ]
  },
  {
   "cell_type": "code",
   "execution_count": 58,
   "metadata": {},
   "outputs": [
    {
     "name": "stdout",
     "output_type": "stream",
     "text": [
      "Accuracy is :  0.741090394146802\n"
     ]
    }
   ],
   "source": [
    "# KNN Approach, k = 4\n",
    "from sklearn.model_selection import train_test_split\n",
    "from sklearn.neighbors import KNeighborsClassifier\n",
    "feat = ['WAIST','BP_HIGH','BP_LWST','BLDS','TOT_CHOLE','SGOT_ASL','SGPT_ALT','GAMMA_GTP','HMG']\n",
    "df = df.fillna(0)\n",
    "df[feat] = df[feat].astype('int64')\n",
    "#input data Xall\n",
    "Xall = df\n",
    "\n",
    "# target data yall\n",
    "yall = df['HY_YN'].values\n",
    "\n",
    "xTrain, xTest, yTrain, yTest = train_test_split(Xall, yall, test_size = 0.2, random_state = 200530, stratify = yall)\n",
    "knn = KNeighborsClassifier(n_neighbors=4)\n",
    "\n",
    "\n",
    "\n",
    "knn.fit(xTrain, yTrain)\n",
    "\n",
    "print(\"Accuracy is : \", knn.score(xTest, yTest))\n",
    "\n"
   ]
  },
  {
   "cell_type": "code",
   "execution_count": 101,
   "metadata": {},
   "outputs": [
    {
     "name": "stdout",
     "output_type": "stream",
     "text": [
      "\n",
      "KNN - <classification matrics>\n",
      "               precision    recall  f1-score   support\n",
      "\n",
      "           0       0.99      0.99      0.99      3191\n",
      "           1       0.96      0.96      0.96      1046\n",
      "\n",
      "    accuracy                           0.98      4237\n",
      "   macro avg       0.97      0.97      0.97      4237\n",
      "weighted avg       0.98      0.98      0.98      4237\n",
      "\n"
     ]
    }
   ],
   "source": [
    "print(\"\\nKNN - <classification matrics>\\n\", classification_report(y_test, y_predict))"
   ]
  },
  {
   "cell_type": "code",
   "execution_count": 61,
   "metadata": {},
   "outputs": [
    {
     "name": "stdout",
     "output_type": "stream",
     "text": [
      "Accuracy is :  0.725041302808591\n"
     ]
    }
   ],
   "source": [
    "# KNN Approach, k = 5\n",
    "from sklearn.model_selection import train_test_split\n",
    "from sklearn.neighbors import KNeighborsClassifier\n",
    "feat = ['WAIST','BP_HIGH','BP_LWST','BLDS','TOT_CHOLE','SGOT_ASL','SGPT_ALT','GAMMA_GTP','HMG']\n",
    "df = df.fillna(0)\n",
    "df[feat] = df[feat].astype('int64')\n",
    "#input data Xall\n",
    "Xall = df\n",
    "\n",
    "# target data yall\n",
    "yall = df['HY_YN'].values\n",
    "\n",
    "xTrain, xTest, yTrain, yTest = train_test_split(Xall, yall, test_size = 0.2, random_state = 200530, stratify = yall)\n",
    "knn = KNeighborsClassifier(n_neighbors=5)\n",
    "\n",
    "\n",
    "\n",
    "knn.fit(xTrain, yTrain)\n",
    "\n",
    "print(\"Accuracy is : \", knn.score(xTest, yTest)*100)"
   ]
  },
  {
   "cell_type": "code",
   "execution_count": 59,
   "metadata": {},
   "outputs": [
    {
     "name": "stdout",
     "output_type": "stream",
     "text": [
      "Accuracy is :  0.725041302808591\n"
     ]
    }
   ],
   "source": [
    "# KNN Approach, k = 6\n",
    "from sklearn.model_selection import train_test_split\n",
    "from sklearn.neighbors import KNeighborsClassifier\n",
    "feat = ['WAIST','BP_HIGH','BP_LWST','BLDS','TOT_CHOLE','SGOT_ASL','SGPT_ALT','GAMMA_GTP','HMG']\n",
    "df = df.fillna(0)\n",
    "df[feat] = df[feat].astype('int64')\n",
    "#input data Xall\n",
    "Xall = df\n",
    "\n",
    "# target data yall\n",
    "yall = df['HY_YN'].values\n",
    "\n",
    "xTrain, xTest, yTrain, yTest = train_test_split(Xall, yall, test_size = 0.2, random_state = 200530, stratify = yall)\n",
    "knn = KNeighborsClassifier(n_neighbors=5)\n",
    "\n",
    "\n",
    "\n",
    "knn.fit(xTrain, yTrain)\n",
    "\n",
    "print(\"Accuracy is : \", knn.score(xTest, yTest))"
   ]
  },
  {
   "cell_type": "markdown",
   "metadata": {},
   "source": [
    "### SVM approach"
   ]
  },
  {
   "cell_type": "code",
   "execution_count": 103,
   "metadata": {},
   "outputs": [
    {
     "name": "stdout",
     "output_type": "stream",
     "text": [
      "Accuracy is:  1.0\n"
     ]
    }
   ],
   "source": [
    "# SVM Approach\n",
    "\n",
    "from sklearn import svm\n",
    "\"\"\"\n",
    "1   gender       20438 non-null  object\n",
    "2   H_APOP_YN    20438 non-null  object\n",
    "3   H_HDISE_YN   20438 non-null  object\n",
    "4   H_DIABML_YN  20438 non-null  object\n",
    "5   F_APOP_YN    20438 non-null  object\n",
    "6   F_HDISE_YN   20438 non-null  object\n",
    "7   F_HPRT_YN    20438 non-null  object\n",
    "8   F_DIABML_YN  20438 non-null  object\n",
    "9   DSQTY        20438 non-null  object\n",
    "10  SMK_TERM     20438 non-null  object\n",
    "\"\"\"\n",
    "feat = ['WAIST','BP_HIGH','BP_LWST','BLDS','TOT_CHOLE','SGOT_ASL','SGPT_ALT','GAMMA_GTP','HMG']\n",
    "df = df.fillna(0)\n",
    "df[feat] = df[feat].astype('int64')\n",
    "feature_df = df\n",
    " \n",
    "X = np.asarray(feature_df)\n",
    "y = np.asarray(df['HY_YN'])\n",
    "#df -> train and test data\n",
    "# train(x,y) x is 2d array, y is 1d araay\n",
    "X_train, X_test, y_train, y_test = train_test_split(X, y, test_size = 0.2, random_state = 1, stratify = y)\n",
    "\n",
    "#(16350, 9)\n",
    "# X_train.shape\n",
    "# (16350,)\n",
    "# y_train.shape\n",
    "#SVC = support vector classifier -> data that is near to hyperplane\n",
    "classifier = svm.SVC(kernel = 'linear') \n",
    "\"\"\"\n",
    "kernel = type of hyperplane\n",
    "kernel = linear, polynomial, radial basis function, sigmoid\n",
    "C = penalty\n",
    "\"\"\"\n",
    "classifier.fit(X_train, y_train)\n",
    "y_predict = classifier.predict(X_test)\n",
    "\n",
    "#Evaluation (result)\n",
    "from sklearn import metrics\n",
    "print(\"Accuracy is: \",metrics.accuracy_score(y_test, y_predict))\n",
    "#precision equation:\n",
    "# \"\"\"\n",
    "# True Positive / True Positive + False Positive\n",
    "#     or\n",
    "# True Positive / Total Predicted Positive\n",
    "# \"\"\""
   ]
  },
  {
   "cell_type": "markdown",
   "metadata": {},
   "source": [
    "### Evaluate the SVM model"
   ]
  },
  {
   "cell_type": "code",
   "execution_count": 104,
   "metadata": {},
   "outputs": [
    {
     "name": "stdout",
     "output_type": "stream",
     "text": [
      "1.0\n",
      "1.0\n",
      "1.0\n"
     ]
    }
   ],
   "source": [
    "print(metrics.precision_score(y_test, y_predict))\n",
    "print(metrics.recall_score(y_test, y_predict))\n",
    "print(metrics.f1_score(y_test, y_predict))"
   ]
  },
  {
   "cell_type": "code",
   "execution_count": null,
   "metadata": {},
   "outputs": [],
   "source": []
  }
 ],
 "metadata": {
  "kernelspec": {
   "display_name": "Python 3",
   "language": "python",
   "name": "python3"
  },
  "language_info": {
   "codemirror_mode": {
    "name": "ipython",
    "version": 3
   },
   "file_extension": ".py",
   "mimetype": "text/x-python",
   "name": "python",
   "nbconvert_exporter": "python",
   "pygments_lexer": "ipython3",
   "version": "3.6.10"
  }
 },
 "nbformat": 4,
 "nbformat_minor": 4
}
